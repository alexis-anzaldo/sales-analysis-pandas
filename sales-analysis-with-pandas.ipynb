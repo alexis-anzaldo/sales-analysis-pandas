{
 "cells": [
  {
   "cell_type": "code",
   "execution_count": 1,
   "id": "fb0f1880",
   "metadata": {
    "_cell_guid": "b1076dfc-b9ad-4769-8c92-a6c4dae69d19",
    "_uuid": "8f2839f25d086af736a60e9eeb907d3b93b6e0e5",
    "execution": {
     "iopub.execute_input": "2023-03-31T05:32:29.947881Z",
     "iopub.status.busy": "2023-03-31T05:32:29.947316Z",
     "iopub.status.idle": "2023-03-31T05:32:29.982310Z",
     "shell.execute_reply": "2023-03-31T05:32:29.980870Z"
    },
    "papermill": {
     "duration": 0.051152,
     "end_time": "2023-03-31T05:32:29.987038",
     "exception": false,
     "start_time": "2023-03-31T05:32:29.935886",
     "status": "completed"
    },
    "tags": []
   },
   "outputs": [
    {
     "name": "stdout",
     "output_type": "stream",
     "text": [
      "/kaggle/input/sales-dataset-of-ecommerce-electronic-products/Updated_sales.csv\n",
      "/kaggle/input/sales-dataset-of-ecommerce-electronic-products/Sales_Data/Sales_August_2019.csv\n",
      "/kaggle/input/sales-dataset-of-ecommerce-electronic-products/Sales_Data/Sales_May_2019.csv\n",
      "/kaggle/input/sales-dataset-of-ecommerce-electronic-products/Sales_Data/Sales_February_2019.csv\n",
      "/kaggle/input/sales-dataset-of-ecommerce-electronic-products/Sales_Data/Sales_November_2019.csv\n",
      "/kaggle/input/sales-dataset-of-ecommerce-electronic-products/Sales_Data/Sales_January_2019.csv\n",
      "/kaggle/input/sales-dataset-of-ecommerce-electronic-products/Sales_Data/Sales_March_2019.csv\n",
      "/kaggle/input/sales-dataset-of-ecommerce-electronic-products/Sales_Data/Sales_September_2019.csv\n",
      "/kaggle/input/sales-dataset-of-ecommerce-electronic-products/Sales_Data/Sales_April_2019.csv\n",
      "/kaggle/input/sales-dataset-of-ecommerce-electronic-products/Sales_Data/Sales_July_2019.csv\n",
      "/kaggle/input/sales-dataset-of-ecommerce-electronic-products/Sales_Data/Sales_October_2019.csv\n",
      "/kaggle/input/sales-dataset-of-ecommerce-electronic-products/Sales_Data/Sales_June_2019.csv\n",
      "/kaggle/input/sales-dataset-of-ecommerce-electronic-products/Sales_Data/Sales_December_2019.csv\n"
     ]
    }
   ],
   "source": [
    "import os\n",
    "for dirname, _, filenames in os.walk('/kaggle/input'):\n",
    "    for filename in filenames:\n",
    "        print(os.path.join(dirname, filename))\n",
    "\n",
    "# You can write up to 20GB to the current directory (/kaggle/working/) that gets preserved as output when you create a version using \"Save & Run All\" \n",
    "# You can also write temporary files to /kaggle/temp/, but they won't be saved outside of the current session"
   ]
  },
  {
   "cell_type": "code",
   "execution_count": 2,
   "id": "dc1f2533",
   "metadata": {
    "execution": {
     "iopub.execute_input": "2023-03-31T05:32:30.014140Z",
     "iopub.status.busy": "2023-03-31T05:32:30.013585Z",
     "iopub.status.idle": "2023-03-31T05:32:30.020221Z",
     "shell.execute_reply": "2023-03-31T05:32:30.018562Z"
    },
    "papermill": {
     "duration": 0.023997,
     "end_time": "2023-03-31T05:32:30.023473",
     "exception": false,
     "start_time": "2023-03-31T05:32:29.999476",
     "status": "completed"
    },
    "tags": []
   },
   "outputs": [],
   "source": [
    "import pandas as pd"
   ]
  },
  {
   "cell_type": "markdown",
   "id": "9afab7bc",
   "metadata": {
    "papermill": {
     "duration": 0.007932,
     "end_time": "2023-03-31T05:32:30.039463",
     "exception": false,
     "start_time": "2023-03-31T05:32:30.031531",
     "status": "completed"
    },
    "tags": []
   },
   "source": [
    "# First step: Merge all 12 month of sales data into a single file"
   ]
  },
  {
   "cell_type": "code",
   "execution_count": 3,
   "id": "cfe907ee",
   "metadata": {
    "execution": {
     "iopub.execute_input": "2023-03-31T05:32:30.058816Z",
     "iopub.status.busy": "2023-03-31T05:32:30.057835Z",
     "iopub.status.idle": "2023-03-31T05:32:30.899597Z",
     "shell.execute_reply": "2023-03-31T05:32:30.898091Z"
    },
    "papermill": {
     "duration": 0.85535,
     "end_time": "2023-03-31T05:32:30.902823",
     "exception": false,
     "start_time": "2023-03-31T05:32:30.047473",
     "status": "completed"
    },
    "tags": []
   },
   "outputs": [
    {
     "data": {
      "text/html": [
       "<div>\n",
       "<style scoped>\n",
       "    .dataframe tbody tr th:only-of-type {\n",
       "        vertical-align: middle;\n",
       "    }\n",
       "\n",
       "    .dataframe tbody tr th {\n",
       "        vertical-align: top;\n",
       "    }\n",
       "\n",
       "    .dataframe thead th {\n",
       "        text-align: right;\n",
       "    }\n",
       "</style>\n",
       "<table border=\"1\" class=\"dataframe\">\n",
       "  <thead>\n",
       "    <tr style=\"text-align: right;\">\n",
       "      <th></th>\n",
       "      <th>Order ID</th>\n",
       "      <th>Product</th>\n",
       "      <th>Quantity Ordered</th>\n",
       "      <th>Price Each</th>\n",
       "      <th>Order Date</th>\n",
       "      <th>Purchase Address</th>\n",
       "    </tr>\n",
       "  </thead>\n",
       "  <tbody>\n",
       "    <tr>\n",
       "      <th>0</th>\n",
       "      <td>236670</td>\n",
       "      <td>Wired Headphones</td>\n",
       "      <td>2</td>\n",
       "      <td>11.99</td>\n",
       "      <td>08/31/19 22:21</td>\n",
       "      <td>359 Spruce St, Seattle, WA 98101</td>\n",
       "    </tr>\n",
       "    <tr>\n",
       "      <th>1</th>\n",
       "      <td>236671</td>\n",
       "      <td>Bose SoundSport Headphones</td>\n",
       "      <td>1</td>\n",
       "      <td>99.99</td>\n",
       "      <td>08/15/19 15:11</td>\n",
       "      <td>492 Ridge St, Dallas, TX 75001</td>\n",
       "    </tr>\n",
       "    <tr>\n",
       "      <th>2</th>\n",
       "      <td>236672</td>\n",
       "      <td>iPhone</td>\n",
       "      <td>1</td>\n",
       "      <td>700.0</td>\n",
       "      <td>08/06/19 14:40</td>\n",
       "      <td>149 7th St, Portland, OR 97035</td>\n",
       "    </tr>\n",
       "    <tr>\n",
       "      <th>3</th>\n",
       "      <td>236673</td>\n",
       "      <td>AA Batteries (4-pack)</td>\n",
       "      <td>2</td>\n",
       "      <td>3.84</td>\n",
       "      <td>08/29/19 20:59</td>\n",
       "      <td>631 2nd St, Los Angeles, CA 90001</td>\n",
       "    </tr>\n",
       "    <tr>\n",
       "      <th>4</th>\n",
       "      <td>236674</td>\n",
       "      <td>AA Batteries (4-pack)</td>\n",
       "      <td>2</td>\n",
       "      <td>3.84</td>\n",
       "      <td>08/15/19 19:53</td>\n",
       "      <td>736 14th St, New York City, NY 10001</td>\n",
       "    </tr>\n",
       "    <tr>\n",
       "      <th>...</th>\n",
       "      <td>...</td>\n",
       "      <td>...</td>\n",
       "      <td>...</td>\n",
       "      <td>...</td>\n",
       "      <td>...</td>\n",
       "      <td>...</td>\n",
       "    </tr>\n",
       "    <tr>\n",
       "      <th>25112</th>\n",
       "      <td>319666</td>\n",
       "      <td>Lightning Charging Cable</td>\n",
       "      <td>1</td>\n",
       "      <td>14.95</td>\n",
       "      <td>12/11/19 20:58</td>\n",
       "      <td>14 Madison St, San Francisco, CA 94016</td>\n",
       "    </tr>\n",
       "    <tr>\n",
       "      <th>25113</th>\n",
       "      <td>319667</td>\n",
       "      <td>AA Batteries (4-pack)</td>\n",
       "      <td>2</td>\n",
       "      <td>3.84</td>\n",
       "      <td>12/01/19 12:01</td>\n",
       "      <td>549 Willow St, Los Angeles, CA 90001</td>\n",
       "    </tr>\n",
       "    <tr>\n",
       "      <th>25114</th>\n",
       "      <td>319668</td>\n",
       "      <td>Vareebadd Phone</td>\n",
       "      <td>1</td>\n",
       "      <td>400</td>\n",
       "      <td>12/09/19 06:43</td>\n",
       "      <td>273 Wilson St, Seattle, WA 98101</td>\n",
       "    </tr>\n",
       "    <tr>\n",
       "      <th>25115</th>\n",
       "      <td>319669</td>\n",
       "      <td>Wired Headphones</td>\n",
       "      <td>1</td>\n",
       "      <td>11.99</td>\n",
       "      <td>12/03/19 10:39</td>\n",
       "      <td>778 River St, Dallas, TX 75001</td>\n",
       "    </tr>\n",
       "    <tr>\n",
       "      <th>25116</th>\n",
       "      <td>319670</td>\n",
       "      <td>Bose SoundSport Headphones</td>\n",
       "      <td>1</td>\n",
       "      <td>99.99</td>\n",
       "      <td>12/21/19 21:45</td>\n",
       "      <td>747 Chestnut St, Los Angeles, CA 90001</td>\n",
       "    </tr>\n",
       "  </tbody>\n",
       "</table>\n",
       "<p>186850 rows × 6 columns</p>\n",
       "</div>"
      ],
      "text/plain": [
       "      Order ID                     Product Quantity Ordered Price Each  \\\n",
       "0       236670            Wired Headphones                2      11.99   \n",
       "1       236671  Bose SoundSport Headphones                1      99.99   \n",
       "2       236672                      iPhone                1      700.0   \n",
       "3       236673       AA Batteries (4-pack)                2       3.84   \n",
       "4       236674       AA Batteries (4-pack)                2       3.84   \n",
       "...        ...                         ...              ...        ...   \n",
       "25112   319666    Lightning Charging Cable                1      14.95   \n",
       "25113   319667       AA Batteries (4-pack)                2       3.84   \n",
       "25114   319668             Vareebadd Phone                1        400   \n",
       "25115   319669            Wired Headphones                1      11.99   \n",
       "25116   319670  Bose SoundSport Headphones                1      99.99   \n",
       "\n",
       "           Order Date                        Purchase Address  \n",
       "0      08/31/19 22:21        359 Spruce St, Seattle, WA 98101  \n",
       "1      08/15/19 15:11          492 Ridge St, Dallas, TX 75001  \n",
       "2      08/06/19 14:40          149 7th St, Portland, OR 97035  \n",
       "3      08/29/19 20:59       631 2nd St, Los Angeles, CA 90001  \n",
       "4      08/15/19 19:53    736 14th St, New York City, NY 10001  \n",
       "...               ...                                     ...  \n",
       "25112  12/11/19 20:58  14 Madison St, San Francisco, CA 94016  \n",
       "25113  12/01/19 12:01    549 Willow St, Los Angeles, CA 90001  \n",
       "25114  12/09/19 06:43        273 Wilson St, Seattle, WA 98101  \n",
       "25115  12/03/19 10:39          778 River St, Dallas, TX 75001  \n",
       "25116  12/21/19 21:45  747 Chestnut St, Los Angeles, CA 90001  \n",
       "\n",
       "[186850 rows x 6 columns]"
      ]
     },
     "execution_count": 3,
     "metadata": {},
     "output_type": "execute_result"
    }
   ],
   "source": [
    "import os\n",
    "import glob\n",
    "#Change dir\n",
    "os.chdir(\"/kaggle/input/sales-dataset-of-ecommerce-electronic-products/Sales_Data/\")\n",
    "# match all csv\n",
    "extension = 'csv'\n",
    "all_filenames = [i for i in glob.glob('*.{}'.format(extension))]\n",
    "#combine all files in the list\n",
    "sales_dataframe = pd.concat([pd.read_csv(f) for f in all_filenames ])\n",
    "sales_dataframe\n"
   ]
  },
  {
   "cell_type": "markdown",
   "id": "207fb64c",
   "metadata": {
    "papermill": {
     "duration": 0.007982,
     "end_time": "2023-03-31T05:32:30.919466",
     "exception": false,
     "start_time": "2023-03-31T05:32:30.911484",
     "status": "completed"
    },
    "tags": []
   },
   "source": [
    "# **Data cleaning**"
   ]
  },
  {
   "cell_type": "code",
   "execution_count": 4,
   "id": "80456413",
   "metadata": {
    "execution": {
     "iopub.execute_input": "2023-03-31T05:32:30.937786Z",
     "iopub.status.busy": "2023-03-31T05:32:30.937373Z",
     "iopub.status.idle": "2023-03-31T05:32:31.079942Z",
     "shell.execute_reply": "2023-03-31T05:32:31.078405Z"
    },
    "papermill": {
     "duration": 0.155164,
     "end_time": "2023-03-31T05:32:31.082973",
     "exception": false,
     "start_time": "2023-03-31T05:32:30.927809",
     "status": "completed"
    },
    "tags": []
   },
   "outputs": [],
   "source": [
    "# Remove NaN values\n",
    "nan_df = sales_dataframe[sales_dataframe.isna().any(axis=1)]\n",
    "sales_dataframe = sales_dataframe.dropna(how='all')"
   ]
  },
  {
   "cell_type": "code",
   "execution_count": 5,
   "id": "dd897cb0",
   "metadata": {
    "execution": {
     "iopub.execute_input": "2023-03-31T05:32:31.102360Z",
     "iopub.status.busy": "2023-03-31T05:32:31.101544Z",
     "iopub.status.idle": "2023-03-31T05:32:31.354614Z",
     "shell.execute_reply": "2023-03-31T05:32:31.353049Z"
    },
    "papermill": {
     "duration": 0.266697,
     "end_time": "2023-03-31T05:32:31.357901",
     "exception": false,
     "start_time": "2023-03-31T05:32:31.091204",
     "status": "completed"
    },
    "tags": []
   },
   "outputs": [
    {
     "name": "stdout",
     "output_type": "stream",
     "text": [
      "len:  186305\n",
      "len with no duplicates:  185687\n"
     ]
    }
   ],
   "source": [
    "# Remove dupicates\n",
    "print(\"len: \", len(sales_dataframe.index))\n",
    "sales_dataframe = sales_dataframe.drop_duplicates()\n",
    "print(\"len with no duplicates: \", len(sales_dataframe.index))"
   ]
  },
  {
   "cell_type": "code",
   "execution_count": 6,
   "id": "3dfa2912",
   "metadata": {
    "execution": {
     "iopub.execute_input": "2023-03-31T05:32:31.377298Z",
     "iopub.status.busy": "2023-03-31T05:32:31.376579Z",
     "iopub.status.idle": "2023-03-31T05:32:31.544090Z",
     "shell.execute_reply": "2023-03-31T05:32:31.542649Z"
    },
    "papermill": {
     "duration": 0.181374,
     "end_time": "2023-03-31T05:32:31.547709",
     "exception": false,
     "start_time": "2023-03-31T05:32:31.366335",
     "status": "completed"
    },
    "tags": []
   },
   "outputs": [],
   "source": [
    "# Remove row with header column names created when combining files\n",
    "sales_dataframe = sales_dataframe[(sales_dataframe != sales_dataframe.columns).all(axis=1)]"
   ]
  },
  {
   "cell_type": "code",
   "execution_count": 7,
   "id": "28c6b2c9",
   "metadata": {
    "execution": {
     "iopub.execute_input": "2023-03-31T05:32:31.567609Z",
     "iopub.status.busy": "2023-03-31T05:32:31.566267Z",
     "iopub.status.idle": "2023-03-31T05:32:31.759627Z",
     "shell.execute_reply": "2023-03-31T05:32:31.757895Z"
    },
    "papermill": {
     "duration": 0.206501,
     "end_time": "2023-03-31T05:32:31.762779",
     "exception": false,
     "start_time": "2023-03-31T05:32:31.556278",
     "status": "completed"
    },
    "tags": []
   },
   "outputs": [],
   "source": [
    "# Correct datatype\n",
    "sales_dataframe['Quantity Ordered'] = pd.to_numeric(sales_dataframe['Quantity Ordered'])\n",
    "sales_dataframe['Price Each'] = pd.to_numeric(sales_dataframe['Price Each'])"
   ]
  },
  {
   "cell_type": "markdown",
   "id": "556d8de3",
   "metadata": {
    "papermill": {
     "duration": 0.009269,
     "end_time": "2023-03-31T05:32:31.780377",
     "exception": false,
     "start_time": "2023-03-31T05:32:31.771108",
     "status": "completed"
    },
    "tags": []
   },
   "source": [
    "# **Question 1: What was the best month for sales? How much was earned that month?**"
   ]
  },
  {
   "cell_type": "code",
   "execution_count": 8,
   "id": "6733787c",
   "metadata": {
    "execution": {
     "iopub.execute_input": "2023-03-31T05:32:31.801497Z",
     "iopub.status.busy": "2023-03-31T05:32:31.801019Z",
     "iopub.status.idle": "2023-03-31T05:32:33.072091Z",
     "shell.execute_reply": "2023-03-31T05:32:33.070480Z"
    },
    "papermill": {
     "duration": 1.285431,
     "end_time": "2023-03-31T05:32:33.075950",
     "exception": false,
     "start_time": "2023-03-31T05:32:31.790519",
     "status": "completed"
    },
    "tags": []
   },
   "outputs": [
    {
     "name": "stdout",
     "output_type": "stream",
     "text": [
      "Best month: 12, $4608295.7\n"
     ]
    }
   ],
   "source": [
    "# Split Order Date into Date and Hour\n",
    "sales_dataframe[[\"Date\", \"Hour\"]] = sales_dataframe[\"Order Date\"].str.split(\" \", expand=True)\n",
    "# Split Date into Month,Day, and Year\n",
    "sales_dataframe[[\"Month\", \"Day\", \"Year\"]] = sales_dataframe[\"Date\"].str.split(\"/\", expand=True)\n",
    "# Add a total column\n",
    "sales_dataframe[\"Total\"] = sales_dataframe[\"Quantity Ordered\"]*sales_dataframe[\"Price Each\"]\n",
    "\n",
    "# Get sales per month\n",
    "sales_per_month = sales_dataframe.groupby(sales_dataframe[\"Month\"])[\"Total\"].sum()\n",
    "best_month = sales_per_month.idxmax()\n",
    "sales_best_month = sales_per_month.max()\n",
    "\n",
    "print(f\"Best month: {best_month}, ${sales_best_month}\")"
   ]
  },
  {
   "cell_type": "code",
   "execution_count": 9,
   "id": "4c03e05e",
   "metadata": {
    "execution": {
     "iopub.execute_input": "2023-03-31T05:32:33.095970Z",
     "iopub.status.busy": "2023-03-31T05:32:33.095499Z",
     "iopub.status.idle": "2023-03-31T05:32:33.387562Z",
     "shell.execute_reply": "2023-03-31T05:32:33.385676Z"
    },
    "papermill": {
     "duration": 0.305767,
     "end_time": "2023-03-31T05:32:33.390486",
     "exception": false,
     "start_time": "2023-03-31T05:32:33.084719",
     "status": "completed"
    },
    "tags": []
   },
   "outputs": [
    {
     "data": {
      "image/png": "[encoded data removed]",
      "text/plain": [
       "<Figure size 640x480 with 1 Axes>"
      ]
     },
     "metadata": {},
     "output_type": "display_data"
    }
   ],
   "source": [
    "import calendar\n",
    "import matplotlib.pyplot as plt\n",
    "\n",
    "# Get month names\n",
    "month_list = [calendar.month_name[int(item.strip(\"0\"))] for item in sales_per_month.index.to_list()]\n",
    "\n",
    "fig, ax = plt.subplots();\n",
    "ax.bar(month_list, sales_per_month.values)\n",
    "\n",
    "plt.xticks(rotation=30, ha='right')\n",
    "plt.ylabel(\"USD ($)\")\n",
    "plt.xlabel(\"Months\")\n",
    "plt.show()"
   ]
  },
  {
   "cell_type": "markdown",
   "id": "a4d2e1e2",
   "metadata": {
    "papermill": {
     "duration": 0.0086,
     "end_time": "2023-03-31T05:32:33.409148",
     "exception": false,
     "start_time": "2023-03-31T05:32:33.400548",
     "status": "completed"
    },
    "tags": []
   },
   "source": [
    "# **Question 2. What city had the highest number of sales**"
   ]
  },
  {
   "cell_type": "code",
   "execution_count": 10,
   "id": "d645cda3",
   "metadata": {
    "execution": {
     "iopub.execute_input": "2023-03-31T05:32:33.430448Z",
     "iopub.status.busy": "2023-03-31T05:32:33.429657Z",
     "iopub.status.idle": "2023-03-31T05:32:33.450764Z",
     "shell.execute_reply": "2023-03-31T05:32:33.448568Z"
    },
    "papermill": {
     "duration": 0.035868,
     "end_time": "2023-03-31T05:32:33.454115",
     "exception": false,
     "start_time": "2023-03-31T05:32:33.418247",
     "status": "completed"
    },
    "tags": []
   },
   "outputs": [
    {
     "data": {
      "text/html": [
       "<div>\n",
       "<style scoped>\n",
       "    .dataframe tbody tr th:only-of-type {\n",
       "        vertical-align: middle;\n",
       "    }\n",
       "\n",
       "    .dataframe tbody tr th {\n",
       "        vertical-align: top;\n",
       "    }\n",
       "\n",
       "    .dataframe thead th {\n",
       "        text-align: right;\n",
       "    }\n",
       "</style>\n",
       "<table border=\"1\" class=\"dataframe\">\n",
       "  <thead>\n",
       "    <tr style=\"text-align: right;\">\n",
       "      <th></th>\n",
       "      <th>Order ID</th>\n",
       "      <th>Product</th>\n",
       "      <th>Quantity Ordered</th>\n",
       "      <th>Price Each</th>\n",
       "      <th>Order Date</th>\n",
       "      <th>Purchase Address</th>\n",
       "      <th>Date</th>\n",
       "      <th>Hour</th>\n",
       "      <th>Month</th>\n",
       "      <th>Day</th>\n",
       "      <th>Year</th>\n",
       "      <th>Total</th>\n",
       "    </tr>\n",
       "  </thead>\n",
       "  <tbody>\n",
       "    <tr>\n",
       "      <th>0</th>\n",
       "      <td>236670</td>\n",
       "      <td>Wired Headphones</td>\n",
       "      <td>2</td>\n",
       "      <td>11.99</td>\n",
       "      <td>08/31/19 22:21</td>\n",
       "      <td>359 Spruce St, Seattle, WA 98101</td>\n",
       "      <td>08/31/19</td>\n",
       "      <td>22:21</td>\n",
       "      <td>08</td>\n",
       "      <td>31</td>\n",
       "      <td>19</td>\n",
       "      <td>23.98</td>\n",
       "    </tr>\n",
       "    <tr>\n",
       "      <th>1</th>\n",
       "      <td>236671</td>\n",
       "      <td>Bose SoundSport Headphones</td>\n",
       "      <td>1</td>\n",
       "      <td>99.99</td>\n",
       "      <td>08/15/19 15:11</td>\n",
       "      <td>492 Ridge St, Dallas, TX 75001</td>\n",
       "      <td>08/15/19</td>\n",
       "      <td>15:11</td>\n",
       "      <td>08</td>\n",
       "      <td>15</td>\n",
       "      <td>19</td>\n",
       "      <td>99.99</td>\n",
       "    </tr>\n",
       "    <tr>\n",
       "      <th>2</th>\n",
       "      <td>236672</td>\n",
       "      <td>iPhone</td>\n",
       "      <td>1</td>\n",
       "      <td>700.00</td>\n",
       "      <td>08/06/19 14:40</td>\n",
       "      <td>149 7th St, Portland, OR 97035</td>\n",
       "      <td>08/06/19</td>\n",
       "      <td>14:40</td>\n",
       "      <td>08</td>\n",
       "      <td>06</td>\n",
       "      <td>19</td>\n",
       "      <td>700.00</td>\n",
       "    </tr>\n",
       "    <tr>\n",
       "      <th>3</th>\n",
       "      <td>236673</td>\n",
       "      <td>AA Batteries (4-pack)</td>\n",
       "      <td>2</td>\n",
       "      <td>3.84</td>\n",
       "      <td>08/29/19 20:59</td>\n",
       "      <td>631 2nd St, Los Angeles, CA 90001</td>\n",
       "      <td>08/29/19</td>\n",
       "      <td>20:59</td>\n",
       "      <td>08</td>\n",
       "      <td>29</td>\n",
       "      <td>19</td>\n",
       "      <td>7.68</td>\n",
       "    </tr>\n",
       "    <tr>\n",
       "      <th>4</th>\n",
       "      <td>236674</td>\n",
       "      <td>AA Batteries (4-pack)</td>\n",
       "      <td>2</td>\n",
       "      <td>3.84</td>\n",
       "      <td>08/15/19 19:53</td>\n",
       "      <td>736 14th St, New York City, NY 10001</td>\n",
       "      <td>08/15/19</td>\n",
       "      <td>19:53</td>\n",
       "      <td>08</td>\n",
       "      <td>15</td>\n",
       "      <td>19</td>\n",
       "      <td>7.68</td>\n",
       "    </tr>\n",
       "  </tbody>\n",
       "</table>\n",
       "</div>"
      ],
      "text/plain": [
       "  Order ID                     Product  Quantity Ordered  Price Each  \\\n",
       "0   236670            Wired Headphones                 2       11.99   \n",
       "1   236671  Bose SoundSport Headphones                 1       99.99   \n",
       "2   236672                      iPhone                 1      700.00   \n",
       "3   236673       AA Batteries (4-pack)                 2        3.84   \n",
       "4   236674       AA Batteries (4-pack)                 2        3.84   \n",
       "\n",
       "       Order Date                      Purchase Address      Date   Hour  \\\n",
       "0  08/31/19 22:21      359 Spruce St, Seattle, WA 98101  08/31/19  22:21   \n",
       "1  08/15/19 15:11        492 Ridge St, Dallas, TX 75001  08/15/19  15:11   \n",
       "2  08/06/19 14:40        149 7th St, Portland, OR 97035  08/06/19  14:40   \n",
       "3  08/29/19 20:59     631 2nd St, Los Angeles, CA 90001  08/29/19  20:59   \n",
       "4  08/15/19 19:53  736 14th St, New York City, NY 10001  08/15/19  19:53   \n",
       "\n",
       "  Month Day Year   Total  \n",
       "0    08  31   19   23.98  \n",
       "1    08  15   19   99.99  \n",
       "2    08  06   19  700.00  \n",
       "3    08  29   19    7.68  \n",
       "4    08  15   19    7.68  "
      ]
     },
     "execution_count": 10,
     "metadata": {},
     "output_type": "execute_result"
    }
   ],
   "source": [
    "sales_dataframe.head()"
   ]
  },
  {
   "cell_type": "code",
   "execution_count": 11,
   "id": "85108dbd",
   "metadata": {
    "execution": {
     "iopub.execute_input": "2023-03-31T05:32:33.477942Z",
     "iopub.status.busy": "2023-03-31T05:32:33.477496Z",
     "iopub.status.idle": "2023-03-31T05:32:33.720663Z",
     "shell.execute_reply": "2023-03-31T05:32:33.718620Z"
    },
    "papermill": {
     "duration": 0.258422,
     "end_time": "2023-03-31T05:32:33.723840",
     "exception": false,
     "start_time": "2023-03-31T05:32:33.465418",
     "status": "completed"
    },
    "tags": []
   },
   "outputs": [
    {
     "data": {
      "text/html": [
       "<div>\n",
       "<style scoped>\n",
       "    .dataframe tbody tr th:only-of-type {\n",
       "        vertical-align: middle;\n",
       "    }\n",
       "\n",
       "    .dataframe tbody tr th {\n",
       "        vertical-align: top;\n",
       "    }\n",
       "\n",
       "    .dataframe thead th {\n",
       "        text-align: right;\n",
       "    }\n",
       "</style>\n",
       "<table border=\"1\" class=\"dataframe\">\n",
       "  <thead>\n",
       "    <tr style=\"text-align: right;\">\n",
       "      <th></th>\n",
       "      <th>Order ID</th>\n",
       "      <th>Product</th>\n",
       "      <th>Quantity Ordered</th>\n",
       "      <th>Price Each</th>\n",
       "      <th>Order Date</th>\n",
       "      <th>Purchase Address</th>\n",
       "      <th>Date</th>\n",
       "      <th>Hour</th>\n",
       "      <th>Month</th>\n",
       "      <th>Day</th>\n",
       "      <th>Year</th>\n",
       "      <th>Total</th>\n",
       "      <th>City</th>\n",
       "    </tr>\n",
       "  </thead>\n",
       "  <tbody>\n",
       "    <tr>\n",
       "      <th>0</th>\n",
       "      <td>236670</td>\n",
       "      <td>Wired Headphones</td>\n",
       "      <td>2</td>\n",
       "      <td>11.99</td>\n",
       "      <td>08/31/19 22:21</td>\n",
       "      <td>359 Spruce St, Seattle, WA 98101</td>\n",
       "      <td>08/31/19</td>\n",
       "      <td>22:21</td>\n",
       "      <td>08</td>\n",
       "      <td>31</td>\n",
       "      <td>19</td>\n",
       "      <td>23.98</td>\n",
       "      <td>Seattle (WA)</td>\n",
       "    </tr>\n",
       "    <tr>\n",
       "      <th>1</th>\n",
       "      <td>236671</td>\n",
       "      <td>Bose SoundSport Headphones</td>\n",
       "      <td>1</td>\n",
       "      <td>99.99</td>\n",
       "      <td>08/15/19 15:11</td>\n",
       "      <td>492 Ridge St, Dallas, TX 75001</td>\n",
       "      <td>08/15/19</td>\n",
       "      <td>15:11</td>\n",
       "      <td>08</td>\n",
       "      <td>15</td>\n",
       "      <td>19</td>\n",
       "      <td>99.99</td>\n",
       "      <td>Dallas (TX)</td>\n",
       "    </tr>\n",
       "    <tr>\n",
       "      <th>2</th>\n",
       "      <td>236672</td>\n",
       "      <td>iPhone</td>\n",
       "      <td>1</td>\n",
       "      <td>700.00</td>\n",
       "      <td>08/06/19 14:40</td>\n",
       "      <td>149 7th St, Portland, OR 97035</td>\n",
       "      <td>08/06/19</td>\n",
       "      <td>14:40</td>\n",
       "      <td>08</td>\n",
       "      <td>06</td>\n",
       "      <td>19</td>\n",
       "      <td>700.00</td>\n",
       "      <td>Portland (OR)</td>\n",
       "    </tr>\n",
       "    <tr>\n",
       "      <th>3</th>\n",
       "      <td>236673</td>\n",
       "      <td>AA Batteries (4-pack)</td>\n",
       "      <td>2</td>\n",
       "      <td>3.84</td>\n",
       "      <td>08/29/19 20:59</td>\n",
       "      <td>631 2nd St, Los Angeles, CA 90001</td>\n",
       "      <td>08/29/19</td>\n",
       "      <td>20:59</td>\n",
       "      <td>08</td>\n",
       "      <td>29</td>\n",
       "      <td>19</td>\n",
       "      <td>7.68</td>\n",
       "      <td>Los Angeles (CA)</td>\n",
       "    </tr>\n",
       "    <tr>\n",
       "      <th>4</th>\n",
       "      <td>236674</td>\n",
       "      <td>AA Batteries (4-pack)</td>\n",
       "      <td>2</td>\n",
       "      <td>3.84</td>\n",
       "      <td>08/15/19 19:53</td>\n",
       "      <td>736 14th St, New York City, NY 10001</td>\n",
       "      <td>08/15/19</td>\n",
       "      <td>19:53</td>\n",
       "      <td>08</td>\n",
       "      <td>15</td>\n",
       "      <td>19</td>\n",
       "      <td>7.68</td>\n",
       "      <td>New York City (NY)</td>\n",
       "    </tr>\n",
       "  </tbody>\n",
       "</table>\n",
       "</div>"
      ],
      "text/plain": [
       "  Order ID                     Product  Quantity Ordered  Price Each  \\\n",
       "0   236670            Wired Headphones                 2       11.99   \n",
       "1   236671  Bose SoundSport Headphones                 1       99.99   \n",
       "2   236672                      iPhone                 1      700.00   \n",
       "3   236673       AA Batteries (4-pack)                 2        3.84   \n",
       "4   236674       AA Batteries (4-pack)                 2        3.84   \n",
       "\n",
       "       Order Date                      Purchase Address      Date   Hour  \\\n",
       "0  08/31/19 22:21      359 Spruce St, Seattle, WA 98101  08/31/19  22:21   \n",
       "1  08/15/19 15:11        492 Ridge St, Dallas, TX 75001  08/15/19  15:11   \n",
       "2  08/06/19 14:40        149 7th St, Portland, OR 97035  08/06/19  14:40   \n",
       "3  08/29/19 20:59     631 2nd St, Los Angeles, CA 90001  08/29/19  20:59   \n",
       "4  08/15/19 19:53  736 14th St, New York City, NY 10001  08/15/19  19:53   \n",
       "\n",
       "  Month Day Year   Total                City  \n",
       "0    08  31   19   23.98        Seattle (WA)  \n",
       "1    08  15   19   99.99         Dallas (TX)  \n",
       "2    08  06   19  700.00       Portland (OR)  \n",
       "3    08  29   19    7.68    Los Angeles (CA)  \n",
       "4    08  15   19    7.68  New York City (NY)  "
      ]
     },
     "execution_count": 11,
     "metadata": {},
     "output_type": "execute_result"
    }
   ],
   "source": [
    "# City From Purchase Address\n",
    "sales_dataframe[\"City\"] = sales_dataframe[\"Purchase Address\"].apply(lambda x: f'{x.split(\", \")[1]} ({x.split(\", \")[2].split(\" \")[0]})')\n",
    "sales_dataframe.head()"
   ]
  },
  {
   "cell_type": "code",
   "execution_count": 12,
   "id": "9aea79e4",
   "metadata": {
    "execution": {
     "iopub.execute_input": "2023-03-31T05:32:33.746398Z",
     "iopub.status.busy": "2023-03-31T05:32:33.745934Z",
     "iopub.status.idle": "2023-03-31T05:32:33.781901Z",
     "shell.execute_reply": "2023-03-31T05:32:33.779914Z"
    },
    "papermill": {
     "duration": 0.052359,
     "end_time": "2023-03-31T05:32:33.785908",
     "exception": false,
     "start_time": "2023-03-31T05:32:33.733549",
     "status": "completed"
    },
    "tags": []
   },
   "outputs": [
    {
     "name": "stdout",
     "output_type": "stream",
     "text": [
      "City with the greatst number of sales: San Francisco (CA), $8254743.55\n"
     ]
    }
   ],
   "source": [
    "# Get City with the greatest number of sales\n",
    "# Get sales per month\n",
    "city_sales_per_month = sales_dataframe.groupby(sales_dataframe[\"City\"])[\"Total\"].sum()\n",
    "best_month = city_sales_per_month.idxmax()\n",
    "sales_best_month = city_sales_per_month.max()\n",
    "\n",
    "print(f\"City with the greatst number of sales: {best_month}, ${sales_best_month}\")"
   ]
  },
  {
   "cell_type": "code",
   "execution_count": 13,
   "id": "b282314e",
   "metadata": {
    "execution": {
     "iopub.execute_input": "2023-03-31T05:32:33.809704Z",
     "iopub.status.busy": "2023-03-31T05:32:33.809144Z",
     "iopub.status.idle": "2023-03-31T05:32:34.100802Z",
     "shell.execute_reply": "2023-03-31T05:32:34.098889Z"
    },
    "papermill": {
     "duration": 0.30708,
     "end_time": "2023-03-31T05:32:34.104434",
     "exception": false,
     "start_time": "2023-03-31T05:32:33.797354",
     "status": "completed"
    },
    "tags": []
   },
   "outputs": [
    {
     "data": {
      "image/png": "[encoded data removed]",
      "text/plain": [
       "<Figure size 640x480 with 1 Axes>"
      ]
     },
     "metadata": {},
     "output_type": "display_data"
    }
   ],
   "source": [
    "fig, ax = plt.subplots();\n",
    "bar_graph = ax.bar(city_sales_per_month.index, city_sales_per_month.values)\n",
    "\n",
    "plt.xticks(rotation=30, ha='right')\n",
    "plt.ylabel(\"USD ($)\")\n",
    "plt.xlabel(\"City\")\n",
    "plt.show()"
   ]
  },
  {
   "cell_type": "markdown",
   "id": "0ed4b07f",
   "metadata": {
    "papermill": {
     "duration": 0.010411,
     "end_time": "2023-03-31T05:32:34.127063",
     "exception": false,
     "start_time": "2023-03-31T05:32:34.116652",
     "status": "completed"
    },
    "tags": []
   },
   "source": [
    "# **Question 3: What time should we display advertisements to maximize likelihood of curstomer's buying product?**"
   ]
  },
  {
   "cell_type": "code",
   "execution_count": 14,
   "id": "3647ff59",
   "metadata": {
    "execution": {
     "iopub.execute_input": "2023-03-31T05:32:34.153635Z",
     "iopub.status.busy": "2023-03-31T05:32:34.151778Z",
     "iopub.status.idle": "2023-03-31T05:32:34.177656Z",
     "shell.execute_reply": "2023-03-31T05:32:34.175812Z"
    },
    "papermill": {
     "duration": 0.043407,
     "end_time": "2023-03-31T05:32:34.181555",
     "exception": false,
     "start_time": "2023-03-31T05:32:34.138148",
     "status": "completed"
    },
    "tags": []
   },
   "outputs": [
    {
     "data": {
      "text/html": [
       "<div>\n",
       "<style scoped>\n",
       "    .dataframe tbody tr th:only-of-type {\n",
       "        vertical-align: middle;\n",
       "    }\n",
       "\n",
       "    .dataframe tbody tr th {\n",
       "        vertical-align: top;\n",
       "    }\n",
       "\n",
       "    .dataframe thead th {\n",
       "        text-align: right;\n",
       "    }\n",
       "</style>\n",
       "<table border=\"1\" class=\"dataframe\">\n",
       "  <thead>\n",
       "    <tr style=\"text-align: right;\">\n",
       "      <th></th>\n",
       "      <th>Order ID</th>\n",
       "      <th>Product</th>\n",
       "      <th>Quantity Ordered</th>\n",
       "      <th>Price Each</th>\n",
       "      <th>Order Date</th>\n",
       "      <th>Purchase Address</th>\n",
       "      <th>Date</th>\n",
       "      <th>Hour</th>\n",
       "      <th>Month</th>\n",
       "      <th>Day</th>\n",
       "      <th>Year</th>\n",
       "      <th>Total</th>\n",
       "      <th>City</th>\n",
       "    </tr>\n",
       "  </thead>\n",
       "  <tbody>\n",
       "    <tr>\n",
       "      <th>0</th>\n",
       "      <td>236670</td>\n",
       "      <td>Wired Headphones</td>\n",
       "      <td>2</td>\n",
       "      <td>11.99</td>\n",
       "      <td>08/31/19 22:21</td>\n",
       "      <td>359 Spruce St, Seattle, WA 98101</td>\n",
       "      <td>08/31/19</td>\n",
       "      <td>22:21</td>\n",
       "      <td>08</td>\n",
       "      <td>31</td>\n",
       "      <td>19</td>\n",
       "      <td>23.98</td>\n",
       "      <td>Seattle (WA)</td>\n",
       "    </tr>\n",
       "    <tr>\n",
       "      <th>1</th>\n",
       "      <td>236671</td>\n",
       "      <td>Bose SoundSport Headphones</td>\n",
       "      <td>1</td>\n",
       "      <td>99.99</td>\n",
       "      <td>08/15/19 15:11</td>\n",
       "      <td>492 Ridge St, Dallas, TX 75001</td>\n",
       "      <td>08/15/19</td>\n",
       "      <td>15:11</td>\n",
       "      <td>08</td>\n",
       "      <td>15</td>\n",
       "      <td>19</td>\n",
       "      <td>99.99</td>\n",
       "      <td>Dallas (TX)</td>\n",
       "    </tr>\n",
       "    <tr>\n",
       "      <th>2</th>\n",
       "      <td>236672</td>\n",
       "      <td>iPhone</td>\n",
       "      <td>1</td>\n",
       "      <td>700.00</td>\n",
       "      <td>08/06/19 14:40</td>\n",
       "      <td>149 7th St, Portland, OR 97035</td>\n",
       "      <td>08/06/19</td>\n",
       "      <td>14:40</td>\n",
       "      <td>08</td>\n",
       "      <td>06</td>\n",
       "      <td>19</td>\n",
       "      <td>700.00</td>\n",
       "      <td>Portland (OR)</td>\n",
       "    </tr>\n",
       "    <tr>\n",
       "      <th>3</th>\n",
       "      <td>236673</td>\n",
       "      <td>AA Batteries (4-pack)</td>\n",
       "      <td>2</td>\n",
       "      <td>3.84</td>\n",
       "      <td>08/29/19 20:59</td>\n",
       "      <td>631 2nd St, Los Angeles, CA 90001</td>\n",
       "      <td>08/29/19</td>\n",
       "      <td>20:59</td>\n",
       "      <td>08</td>\n",
       "      <td>29</td>\n",
       "      <td>19</td>\n",
       "      <td>7.68</td>\n",
       "      <td>Los Angeles (CA)</td>\n",
       "    </tr>\n",
       "    <tr>\n",
       "      <th>4</th>\n",
       "      <td>236674</td>\n",
       "      <td>AA Batteries (4-pack)</td>\n",
       "      <td>2</td>\n",
       "      <td>3.84</td>\n",
       "      <td>08/15/19 19:53</td>\n",
       "      <td>736 14th St, New York City, NY 10001</td>\n",
       "      <td>08/15/19</td>\n",
       "      <td>19:53</td>\n",
       "      <td>08</td>\n",
       "      <td>15</td>\n",
       "      <td>19</td>\n",
       "      <td>7.68</td>\n",
       "      <td>New York City (NY)</td>\n",
       "    </tr>\n",
       "  </tbody>\n",
       "</table>\n",
       "</div>"
      ],
      "text/plain": [
       "  Order ID                     Product  Quantity Ordered  Price Each  \\\n",
       "0   236670            Wired Headphones                 2       11.99   \n",
       "1   236671  Bose SoundSport Headphones                 1       99.99   \n",
       "2   236672                      iPhone                 1      700.00   \n",
       "3   236673       AA Batteries (4-pack)                 2        3.84   \n",
       "4   236674       AA Batteries (4-pack)                 2        3.84   \n",
       "\n",
       "       Order Date                      Purchase Address      Date   Hour  \\\n",
       "0  08/31/19 22:21      359 Spruce St, Seattle, WA 98101  08/31/19  22:21   \n",
       "1  08/15/19 15:11        492 Ridge St, Dallas, TX 75001  08/15/19  15:11   \n",
       "2  08/06/19 14:40        149 7th St, Portland, OR 97035  08/06/19  14:40   \n",
       "3  08/29/19 20:59     631 2nd St, Los Angeles, CA 90001  08/29/19  20:59   \n",
       "4  08/15/19 19:53  736 14th St, New York City, NY 10001  08/15/19  19:53   \n",
       "\n",
       "  Month Day Year   Total                City  \n",
       "0    08  31   19   23.98        Seattle (WA)  \n",
       "1    08  15   19   99.99         Dallas (TX)  \n",
       "2    08  06   19  700.00       Portland (OR)  \n",
       "3    08  29   19    7.68    Los Angeles (CA)  \n",
       "4    08  15   19    7.68  New York City (NY)  "
      ]
     },
     "execution_count": 14,
     "metadata": {},
     "output_type": "execute_result"
    }
   ],
   "source": [
    "sales_dataframe.head()"
   ]
  },
  {
   "cell_type": "code",
   "execution_count": 15,
   "id": "6ec42012",
   "metadata": {
    "execution": {
     "iopub.execute_input": "2023-03-31T05:32:34.208463Z",
     "iopub.status.busy": "2023-03-31T05:32:34.207884Z",
     "iopub.status.idle": "2023-03-31T05:32:34.317917Z",
     "shell.execute_reply": "2023-03-31T05:32:34.316152Z"
    },
    "papermill": {
     "duration": 0.127921,
     "end_time": "2023-03-31T05:32:34.321659",
     "exception": false,
     "start_time": "2023-03-31T05:32:34.193738",
     "status": "completed"
    },
    "tags": []
   },
   "outputs": [
    {
     "data": {
      "text/html": [
       "<div>\n",
       "<style scoped>\n",
       "    .dataframe tbody tr th:only-of-type {\n",
       "        vertical-align: middle;\n",
       "    }\n",
       "\n",
       "    .dataframe tbody tr th {\n",
       "        vertical-align: top;\n",
       "    }\n",
       "\n",
       "    .dataframe thead th {\n",
       "        text-align: right;\n",
       "    }\n",
       "</style>\n",
       "<table border=\"1\" class=\"dataframe\">\n",
       "  <thead>\n",
       "    <tr style=\"text-align: right;\">\n",
       "      <th></th>\n",
       "      <th>Order ID</th>\n",
       "      <th>Product</th>\n",
       "      <th>Quantity Ordered</th>\n",
       "      <th>Price Each</th>\n",
       "      <th>Order Date</th>\n",
       "      <th>Purchase Address</th>\n",
       "      <th>Date</th>\n",
       "      <th>Hour</th>\n",
       "      <th>Month</th>\n",
       "      <th>Day</th>\n",
       "      <th>Year</th>\n",
       "      <th>Total</th>\n",
       "      <th>City</th>\n",
       "      <th>Hour(24h)</th>\n",
       "    </tr>\n",
       "  </thead>\n",
       "  <tbody>\n",
       "    <tr>\n",
       "      <th>0</th>\n",
       "      <td>236670</td>\n",
       "      <td>Wired Headphones</td>\n",
       "      <td>2</td>\n",
       "      <td>11.99</td>\n",
       "      <td>08/31/19 22:21</td>\n",
       "      <td>359 Spruce St, Seattle, WA 98101</td>\n",
       "      <td>08/31/19</td>\n",
       "      <td>22:21</td>\n",
       "      <td>08</td>\n",
       "      <td>31</td>\n",
       "      <td>19</td>\n",
       "      <td>23.98</td>\n",
       "      <td>Seattle (WA)</td>\n",
       "      <td>22</td>\n",
       "    </tr>\n",
       "    <tr>\n",
       "      <th>1</th>\n",
       "      <td>236671</td>\n",
       "      <td>Bose SoundSport Headphones</td>\n",
       "      <td>1</td>\n",
       "      <td>99.99</td>\n",
       "      <td>08/15/19 15:11</td>\n",
       "      <td>492 Ridge St, Dallas, TX 75001</td>\n",
       "      <td>08/15/19</td>\n",
       "      <td>15:11</td>\n",
       "      <td>08</td>\n",
       "      <td>15</td>\n",
       "      <td>19</td>\n",
       "      <td>99.99</td>\n",
       "      <td>Dallas (TX)</td>\n",
       "      <td>15</td>\n",
       "    </tr>\n",
       "    <tr>\n",
       "      <th>2</th>\n",
       "      <td>236672</td>\n",
       "      <td>iPhone</td>\n",
       "      <td>1</td>\n",
       "      <td>700.00</td>\n",
       "      <td>08/06/19 14:40</td>\n",
       "      <td>149 7th St, Portland, OR 97035</td>\n",
       "      <td>08/06/19</td>\n",
       "      <td>14:40</td>\n",
       "      <td>08</td>\n",
       "      <td>06</td>\n",
       "      <td>19</td>\n",
       "      <td>700.00</td>\n",
       "      <td>Portland (OR)</td>\n",
       "      <td>14</td>\n",
       "    </tr>\n",
       "    <tr>\n",
       "      <th>3</th>\n",
       "      <td>236673</td>\n",
       "      <td>AA Batteries (4-pack)</td>\n",
       "      <td>2</td>\n",
       "      <td>3.84</td>\n",
       "      <td>08/29/19 20:59</td>\n",
       "      <td>631 2nd St, Los Angeles, CA 90001</td>\n",
       "      <td>08/29/19</td>\n",
       "      <td>20:59</td>\n",
       "      <td>08</td>\n",
       "      <td>29</td>\n",
       "      <td>19</td>\n",
       "      <td>7.68</td>\n",
       "      <td>Los Angeles (CA)</td>\n",
       "      <td>20</td>\n",
       "    </tr>\n",
       "    <tr>\n",
       "      <th>4</th>\n",
       "      <td>236674</td>\n",
       "      <td>AA Batteries (4-pack)</td>\n",
       "      <td>2</td>\n",
       "      <td>3.84</td>\n",
       "      <td>08/15/19 19:53</td>\n",
       "      <td>736 14th St, New York City, NY 10001</td>\n",
       "      <td>08/15/19</td>\n",
       "      <td>19:53</td>\n",
       "      <td>08</td>\n",
       "      <td>15</td>\n",
       "      <td>19</td>\n",
       "      <td>7.68</td>\n",
       "      <td>New York City (NY)</td>\n",
       "      <td>19</td>\n",
       "    </tr>\n",
       "  </tbody>\n",
       "</table>\n",
       "</div>"
      ],
      "text/plain": [
       "  Order ID                     Product  Quantity Ordered  Price Each  \\\n",
       "0   236670            Wired Headphones                 2       11.99   \n",
       "1   236671  Bose SoundSport Headphones                 1       99.99   \n",
       "2   236672                      iPhone                 1      700.00   \n",
       "3   236673       AA Batteries (4-pack)                 2        3.84   \n",
       "4   236674       AA Batteries (4-pack)                 2        3.84   \n",
       "\n",
       "       Order Date                      Purchase Address      Date   Hour  \\\n",
       "0  08/31/19 22:21      359 Spruce St, Seattle, WA 98101  08/31/19  22:21   \n",
       "1  08/15/19 15:11        492 Ridge St, Dallas, TX 75001  08/15/19  15:11   \n",
       "2  08/06/19 14:40        149 7th St, Portland, OR 97035  08/06/19  14:40   \n",
       "3  08/29/19 20:59     631 2nd St, Los Angeles, CA 90001  08/29/19  20:59   \n",
       "4  08/15/19 19:53  736 14th St, New York City, NY 10001  08/15/19  19:53   \n",
       "\n",
       "  Month Day Year   Total                City Hour(24h)  \n",
       "0    08  31   19   23.98        Seattle (WA)        22  \n",
       "1    08  15   19   99.99         Dallas (TX)        15  \n",
       "2    08  06   19  700.00       Portland (OR)        14  \n",
       "3    08  29   19    7.68    Los Angeles (CA)        20  \n",
       "4    08  15   19    7.68  New York City (NY)        19  "
      ]
     },
     "execution_count": 15,
     "metadata": {},
     "output_type": "execute_result"
    }
   ],
   "source": [
    "# Get hours witouth minutes\n",
    "month_list = [calendar.month_name[int(item.strip(\"0\"))] for item in sales_per_month.index.to_list()]\n",
    "sales_dataframe[\"Hour(24h)\"] = sales_dataframe[\"Hour\"].apply(lambda x: x.split(\":\")[0])\n",
    "sales_dataframe.head()"
   ]
  },
  {
   "cell_type": "code",
   "execution_count": 16,
   "id": "a16bf13a",
   "metadata": {
    "execution": {
     "iopub.execute_input": "2023-03-31T05:32:34.349582Z",
     "iopub.status.busy": "2023-03-31T05:32:34.348933Z",
     "iopub.status.idle": "2023-03-31T05:32:34.379821Z",
     "shell.execute_reply": "2023-03-31T05:32:34.377186Z"
    },
    "papermill": {
     "duration": 0.050165,
     "end_time": "2023-03-31T05:32:34.383733",
     "exception": false,
     "start_time": "2023-03-31T05:32:34.333568",
     "status": "completed"
    },
    "tags": []
   },
   "outputs": [
    {
     "name": "stdout",
     "output_type": "stream",
     "text": [
      "Best hour: 19, number of purchases: 12886\n"
     ]
    }
   ],
   "source": [
    "#Group hours in 24hrs format and graph the number of purchases by hour\n",
    "sales_per_hour = sales_dataframe.groupby(sales_dataframe[\"Hour(24h)\"]).size()\n",
    "#sales_per_hour\n",
    "best_hour = sales_per_hour.idxmax()\n",
    "count_best_hour = sales_per_hour.max()\n",
    "\n",
    "print(f\"Best hour: {best_hour}, number of purchases: {count_best_hour}\")"
   ]
  },
  {
   "cell_type": "code",
   "execution_count": 17,
   "id": "1f66edf4",
   "metadata": {
    "execution": {
     "iopub.execute_input": "2023-03-31T05:32:34.411236Z",
     "iopub.status.busy": "2023-03-31T05:32:34.410256Z",
     "iopub.status.idle": "2023-03-31T05:32:34.423780Z",
     "shell.execute_reply": "2023-03-31T05:32:34.422227Z"
    },
    "papermill": {
     "duration": 0.031339,
     "end_time": "2023-03-31T05:32:34.426725",
     "exception": false,
     "start_time": "2023-03-31T05:32:34.395386",
     "status": "completed"
    },
    "tags": []
   },
   "outputs": [
    {
     "data": {
      "text/plain": [
       "Index(['12', '11', '18', '20'], dtype='object', name='Hour(24h)')"
      ]
     },
     "execution_count": 17,
     "metadata": {},
     "output_type": "execute_result"
    }
   ],
   "source": [
    "sales_per_hour.nlargest(5).index[1:]"
   ]
  },
  {
   "cell_type": "code",
   "execution_count": 18,
   "id": "b38d7953",
   "metadata": {
    "execution": {
     "iopub.execute_input": "2023-03-31T05:32:34.452626Z",
     "iopub.status.busy": "2023-03-31T05:32:34.451314Z",
     "iopub.status.idle": "2023-03-31T05:32:34.843346Z",
     "shell.execute_reply": "2023-03-31T05:32:34.841708Z"
    },
    "papermill": {
     "duration": 0.408083,
     "end_time": "2023-03-31T05:32:34.846275",
     "exception": false,
     "start_time": "2023-03-31T05:32:34.438192",
     "status": "completed"
    },
    "tags": []
   },
   "outputs": [
    {
     "data": {
      "image/png": "[encoded data removed]",
      "text/plain": [
       "<Figure size 640x480 with 1 Axes>"
      ]
     },
     "metadata": {},
     "output_type": "display_data"
    }
   ],
   "source": [
    "fig, ax = plt.subplots();\n",
    "bar_graph = ax.bar(sales_per_hour.index, sales_per_hour.values,color=\"grey\")\n",
    "\n",
    "for x in sales_per_hour.nlargest(5).index:\n",
    "    bar_graph[int(x)].set_facecolor('y')\n",
    "\n",
    "bar_graph[int(best_hour)].set_hatch(\"/\")\n",
    "bar_graph[int(best_hour)].set_edgecolor('r')\n",
    "    \n",
    "colors = {'highest hour':'yellow', 'top five hours':'yellow'}\n",
    "hatchs = {'highest hour':'/', 'top five hours':'/'}\n",
    "edgecolors = {'highest hour':'red', 'top five hours':'yellow'}\n",
    "labels = list(colors.keys())\n",
    "handles = [plt.Rectangle((0,0),1,1, facecolor=colors[label], hatch=hatchs[label], edgecolor=edgecolors[label]) for label in labels]\n",
    "plt.legend(handles, labels)\n",
    "\n",
    "plt.xticks(rotation=\"vertical\")\n",
    "plt.ylabel(\"USD ($)\")\n",
    "plt.xlabel(\"Hour\")\n",
    "plt.show()"
   ]
  },
  {
   "cell_type": "markdown",
   "id": "3899b378",
   "metadata": {
    "papermill": {
     "duration": 0.011387,
     "end_time": "2023-03-31T05:32:34.870081",
     "exception": false,
     "start_time": "2023-03-31T05:32:34.858694",
     "status": "completed"
    },
    "tags": []
   },
   "source": [
    "# **Question 4. What products are most often sold together?**"
   ]
  },
  {
   "cell_type": "code",
   "execution_count": 19,
   "id": "74ab8a95",
   "metadata": {
    "execution": {
     "iopub.execute_input": "2023-03-31T05:32:34.897622Z",
     "iopub.status.busy": "2023-03-31T05:32:34.895613Z",
     "iopub.status.idle": "2023-03-31T05:32:35.997638Z",
     "shell.execute_reply": "2023-03-31T05:32:35.995569Z"
    },
    "papermill": {
     "duration": 1.119514,
     "end_time": "2023-03-31T05:32:36.000915",
     "exception": false,
     "start_time": "2023-03-31T05:32:34.881401",
     "status": "completed"
    },
    "tags": []
   },
   "outputs": [
    {
     "name": "stderr",
     "output_type": "stream",
     "text": [
      "/opt/conda/lib/python3.7/site-packages/ipykernel_launcher.py:4: SettingWithCopyWarning: \n",
      "A value is trying to be set on a copy of a slice from a DataFrame.\n",
      "Try using .loc[row_indexer,col_indexer] = value instead\n",
      "\n",
      "See the caveats in the documentation: https://pandas.pydata.org/pandas-docs/stable/user_guide/indexing.html#returning-a-view-versus-a-copy\n",
      "  after removing the cwd from sys.path.\n"
     ]
    },
    {
     "data": {
      "text/html": [
       "<div>\n",
       "<style scoped>\n",
       "    .dataframe tbody tr th:only-of-type {\n",
       "        vertical-align: middle;\n",
       "    }\n",
       "\n",
       "    .dataframe tbody tr th {\n",
       "        vertical-align: top;\n",
       "    }\n",
       "\n",
       "    .dataframe thead th {\n",
       "        text-align: right;\n",
       "    }\n",
       "</style>\n",
       "<table border=\"1\" class=\"dataframe\">\n",
       "  <thead>\n",
       "    <tr style=\"text-align: right;\">\n",
       "      <th></th>\n",
       "      <th>Order ID</th>\n",
       "      <th>Grouped</th>\n",
       "    </tr>\n",
       "  </thead>\n",
       "  <tbody>\n",
       "    <tr>\n",
       "      <th>46</th>\n",
       "      <td>236716</td>\n",
       "      <td>AA Batteries (4-pack),USB-C Charging Cable</td>\n",
       "    </tr>\n",
       "    <tr>\n",
       "      <th>60</th>\n",
       "      <td>236729</td>\n",
       "      <td>Apple Airpods Headphones,iPhone</td>\n",
       "    </tr>\n",
       "    <tr>\n",
       "      <th>62</th>\n",
       "      <td>236730</td>\n",
       "      <td>Google Phone,Wired Headphones</td>\n",
       "    </tr>\n",
       "    <tr>\n",
       "      <th>132</th>\n",
       "      <td>236799</td>\n",
       "      <td>Google Phone,Wired Headphones</td>\n",
       "    </tr>\n",
       "    <tr>\n",
       "      <th>163</th>\n",
       "      <td>236829</td>\n",
       "      <td>USB-C Charging Cable,Vareebadd Phone</td>\n",
       "    </tr>\n",
       "  </tbody>\n",
       "</table>\n",
       "</div>"
      ],
      "text/plain": [
       "    Order ID                                     Grouped\n",
       "46    236716  AA Batteries (4-pack),USB-C Charging Cable\n",
       "60    236729             Apple Airpods Headphones,iPhone\n",
       "62    236730               Google Phone,Wired Headphones\n",
       "132   236799               Google Phone,Wired Headphones\n",
       "163   236829        USB-C Charging Cable,Vareebadd Phone"
      ]
     },
     "execution_count": 19,
     "metadata": {},
     "output_type": "execute_result"
    }
   ],
   "source": [
    "# Get rows of Order ID with more than one purchase\n",
    "aux_df = sales_dataframe[sales_dataframe[\"Order ID\"].duplicated(keep=False)]\n",
    "\n",
    "aux_df[\"Grouped\"] = aux_df.groupby(\"Order ID\")[\"Product\"].transform(lambda x: \",\".join(x))\n",
    "\n",
    "aux_df = aux_df[[\"Order ID\", \"Grouped\"]].drop_duplicates()\n",
    "\n",
    "# Sort the data\n",
    "aux_df['Grouped'] = aux_df['Grouped'].apply(lambda x: ','.join(sorted(x.split(','))))\n",
    "\n",
    "aux_df.head()"
   ]
  },
  {
   "cell_type": "code",
   "execution_count": 20,
   "id": "ee711dff",
   "metadata": {
    "execution": {
     "iopub.execute_input": "2023-03-31T05:32:36.030259Z",
     "iopub.status.busy": "2023-03-31T05:32:36.029214Z",
     "iopub.status.idle": "2023-03-31T05:32:36.083306Z",
     "shell.execute_reply": "2023-03-31T05:32:36.081012Z"
    },
    "papermill": {
     "duration": 0.073564,
     "end_time": "2023-03-31T05:32:36.087360",
     "exception": false,
     "start_time": "2023-03-31T05:32:36.013796",
     "status": "completed"
    },
    "tags": []
   },
   "outputs": [
    {
     "name": "stdout",
     "output_type": "stream",
     "text": [
      "('Lightning Charging Cable', 'iPhone') 1011\n",
      "('Google Phone', 'USB-C Charging Cable') 997\n",
      "('Wired Headphones', 'iPhone') 462\n",
      "('Google Phone', 'Wired Headphones') 422\n",
      "('Apple Airpods Headphones', 'iPhone') 373\n",
      "('USB-C Charging Cable', 'Vareebadd Phone') 368\n",
      "('Bose SoundSport Headphones', 'Google Phone') 228\n",
      "('USB-C Charging Cable', 'Wired Headphones') 203\n",
      "('Vareebadd Phone', 'Wired Headphones') 149\n",
      "('Lightning Charging Cable', 'Wired Headphones') 129\n"
     ]
    }
   ],
   "source": [
    "from itertools import combinations\n",
    "from collections import Counter\n",
    "\n",
    "\n",
    "count=Counter()\n",
    "\n",
    "#Get a list of the two most common products sold together\n",
    "for row in aux_df[\"Grouped\"]:\n",
    "    row_list = row.split(\",\")\n",
    "    count.update(Counter(combinations(row_list,2)))\n",
    "    \n",
    "for key, value in count.most_common(10):\n",
    "    print(key, value)"
   ]
  },
  {
   "cell_type": "markdown",
   "id": "310604e9",
   "metadata": {
    "papermill": {
     "duration": 0.012418,
     "end_time": "2023-03-31T05:32:36.113409",
     "exception": false,
     "start_time": "2023-03-31T05:32:36.100991",
     "status": "completed"
    },
    "tags": []
   },
   "source": [
    "# **Question 5. What product sold the most? Why do you think it sold the most?**"
   ]
  },
  {
   "cell_type": "code",
   "execution_count": 21,
   "id": "b1c89541",
   "metadata": {
    "execution": {
     "iopub.execute_input": "2023-03-31T05:32:36.142476Z",
     "iopub.status.busy": "2023-03-31T05:32:36.141607Z",
     "iopub.status.idle": "2023-03-31T05:32:36.233404Z",
     "shell.execute_reply": "2023-03-31T05:32:36.232031Z"
    },
    "papermill": {
     "duration": 0.110541,
     "end_time": "2023-03-31T05:32:36.236501",
     "exception": false,
     "start_time": "2023-03-31T05:32:36.125960",
     "status": "completed"
    },
    "tags": []
   },
   "outputs": [
    {
     "data": {
      "text/plain": [
       "Product\n",
       "20in Monitor                   4126\n",
       "27in 4K Gaming Monitor         6239\n",
       "27in FHD Monitor               7541\n",
       "34in Ultrawide Monitor         6192\n",
       "AA Batteries (4-pack)         27615\n",
       "AAA Batteries (4-pack)        30986\n",
       "Apple Airpods Headphones      15637\n",
       "Bose SoundSport Headphones    13430\n",
       "Flatscreen TV                  4813\n",
       "Google Phone                   5529\n",
       "LG Dryer                        646\n",
       "LG Washing Machine              666\n",
       "Lightning Charging Cable      23169\n",
       "Macbook Pro Laptop             4725\n",
       "ThinkPad Laptop                4128\n",
       "USB-C Charging Cable          23931\n",
       "Vareebadd Phone                2068\n",
       "Wired Headphones              20524\n",
       "iPhone                         6847\n",
       "Name: Quantity Ordered, dtype: int64"
      ]
     },
     "execution_count": 21,
     "metadata": {},
     "output_type": "execute_result"
    }
   ],
   "source": [
    "\n",
    "sales_dataframe[\"Quantity Ordered\"] = sales_dataframe[\"Quantity Ordered\"]\n",
    "product_group = sales_dataframe.groupby(\"Product\")\n",
    "quantity_ordered = product_group.sum()[\"Quantity Ordered\"]\n",
    "quantity_ordered.head(100)"
   ]
  },
  {
   "cell_type": "code",
   "execution_count": 22,
   "id": "6fd9d71c",
   "metadata": {
    "execution": {
     "iopub.execute_input": "2023-03-31T05:32:36.263950Z",
     "iopub.status.busy": "2023-03-31T05:32:36.263476Z",
     "iopub.status.idle": "2023-03-31T05:32:36.764390Z",
     "shell.execute_reply": "2023-03-31T05:32:36.762899Z"
    },
    "papermill": {
     "duration": 0.518575,
     "end_time": "2023-03-31T05:32:36.767707",
     "exception": false,
     "start_time": "2023-03-31T05:32:36.249132",
     "status": "completed"
    },
    "tags": []
   },
   "outputs": [
    {
     "data": {
      "image/png": "[encoded data removed]",
      "text/plain": [
       "<Figure size 640x480 with 1 Axes>"
      ]
     },
     "metadata": {},
     "output_type": "display_data"
    }
   ],
   "source": [
    "fig, ax = plt.subplots();\n",
    "bar_graph = ax.bar(quantity_ordered.index, quantity_ordered.values,color=\"grey\")\n",
    "\n",
    "# to get positional index\n",
    "import numpy as np\n",
    "indexes = np.arange(len(quantity_ordered.index))\n",
    "index_dict = {k:v for k, v in zip(quantity_ordered.index, indexes)}\n",
    "\n",
    "for x in quantity_ordered.nlargest(5).index:\n",
    "    bar_graph[index_dict[x]].set_facecolor('y')\n",
    "\n",
    "bar_graph[index_dict[quantity_ordered.nlargest(1).index[0]]].set_hatch(\"/\")\n",
    "bar_graph[index_dict[quantity_ordered.nlargest(1).index[0]]].set_edgecolor('r')\n",
    "    \n",
    "colors = {'most sold':'yellow', 'top five':'yellow'}\n",
    "hatchs = {'most sold':'/', 'top five':'/'}\n",
    "edgecolors = {'most sold':'red', 'top five':'yellow'}\n",
    "labels = list(colors.keys())\n",
    "handles = [plt.Rectangle((0,0),1,1, facecolor=colors[label], hatch=hatchs[label], edgecolor=edgecolors[label]) for label in labels]\n",
    "plt.legend(handles, labels)\n",
    "\n",
    "plt.xticks(rotation=\"vertical\")\n",
    "plt.ylabel(\"Quantity ordered\")\n",
    "plt.xlabel(\"Products\")\n",
    "plt.show()"
   ]
  },
  {
   "cell_type": "markdown",
   "id": "ce45161a",
   "metadata": {
    "papermill": {
     "duration": 0.014537,
     "end_time": "2023-03-31T05:32:36.796732",
     "exception": false,
     "start_time": "2023-03-31T05:32:36.782195",
     "status": "completed"
    },
    "tags": []
   },
   "source": [
    "**These products may be sold the most due to their low cost. To validate this affirmation, we will analyze the actual price of the products seeking some correlation.**"
   ]
  },
  {
   "cell_type": "code",
   "execution_count": 23,
   "id": "caaac559",
   "metadata": {
    "execution": {
     "iopub.execute_input": "2023-03-31T05:32:36.826436Z",
     "iopub.status.busy": "2023-03-31T05:32:36.825975Z",
     "iopub.status.idle": "2023-03-31T05:32:36.933926Z",
     "shell.execute_reply": "2023-03-31T05:32:36.932351Z"
    },
    "papermill": {
     "duration": 0.127642,
     "end_time": "2023-03-31T05:32:36.937918",
     "exception": false,
     "start_time": "2023-03-31T05:32:36.810276",
     "status": "completed"
    },
    "tags": []
   },
   "outputs": [
    {
     "name": "stdout",
     "output_type": "stream",
     "text": [
      "Product\n",
      "20in Monitor                   109.989998\n",
      "27in 4K Gaming Monitor         389.989990\n",
      "27in FHD Monitor               149.990005\n",
      "34in Ultrawide Monitor         379.989990\n",
      "AA Batteries (4-pack)            3.840000\n",
      "AAA Batteries (4-pack)           2.990000\n",
      "Apple Airpods Headphones       150.000000\n",
      "Bose SoundSport Headphones      99.989998\n",
      "Flatscreen TV                  300.000000\n",
      "Google Phone                   600.000000\n",
      "LG Dryer                       600.000000\n",
      "LG Washing Machine             600.000000\n",
      "Lightning Charging Cable        14.950000\n",
      "Macbook Pro Laptop            1700.000000\n",
      "ThinkPad Laptop                999.989990\n",
      "USB-C Charging Cable            11.950000\n",
      "Vareebadd Phone                400.000000\n",
      "Wired Headphones                11.990000\n",
      "iPhone                         700.000000\n",
      "Name: Price Each, dtype: float32\n"
     ]
    }
   ],
   "source": [
    "sales_dataframe.head()\n",
    "sales_dataframe[\"Price Each\"] = sales_dataframe[\"Price Each\"].astype(\"float32\")\n",
    "prices = sales_dataframe.groupby(\"Product\").mean()[\"Price Each\"]\n",
    "\n",
    "print(prices)"
   ]
  },
  {
   "cell_type": "code",
   "execution_count": 24,
   "id": "04852e18",
   "metadata": {
    "execution": {
     "iopub.execute_input": "2023-03-31T05:32:36.969462Z",
     "iopub.status.busy": "2023-03-31T05:32:36.968508Z",
     "iopub.status.idle": "2023-03-31T05:32:37.407063Z",
     "shell.execute_reply": "2023-03-31T05:32:37.404892Z"
    },
    "papermill": {
     "duration": 0.458374,
     "end_time": "2023-03-31T05:32:37.410921",
     "exception": false,
     "start_time": "2023-03-31T05:32:36.952547",
     "status": "completed"
    },
    "tags": []
   },
   "outputs": [
    {
     "name": "stdout",
     "output_type": "stream",
     "text": [
      "[5, 4, 15, 17, 12]\n",
      "[2.99, 3.84, 11.95, 11.99, 14.95]\n"
     ]
    },
    {
     "name": "stderr",
     "output_type": "stream",
     "text": [
      "/opt/conda/lib/python3.7/site-packages/ipykernel_launcher.py:26: UserWarning: FixedFormatter should only be used together with FixedLocator\n"
     ]
    },
    {
     "data": {
      "image/png": "[encoded data removed]",
      "text/plain": [
       "<Figure size 640x480 with 2 Axes>"
      ]
     },
     "metadata": {},
     "output_type": "display_data"
    }
   ],
   "source": [
    "# plot two graph\n",
    "fig, ax1 = plt.subplots()\n",
    "\n",
    "ax2 = ax1.twinx()\n",
    "#ax1.bar(products, y1, 'g-')\n",
    "bar_graph = ax1.bar(quantity_ordered.index, quantity_ordered.values,color=\"grey\")\n",
    "plot_graph = ax2.plot(quantity_ordered.index, prices.values,color=\"red\")\n",
    "\n",
    "for x in quantity_ordered.nlargest(5).index:\n",
    "    bar_graph[index_dict[x]].set_facecolor('y')\n",
    "    \n",
    "smallest_prices = []\n",
    "smallest_prices_idx = []\n",
    "for x in prices.nsmallest(5).index:\n",
    "    smallest_prices_idx.append(index_dict[x])\n",
    "for x in prices.nsmallest(5).values:\n",
    "    smallest_prices.append(x)\n",
    "print(smallest_prices_idx)\n",
    "print(smallest_prices)\n",
    "ax2.scatter(smallest_prices_idx, smallest_prices,color=\"black\")\n",
    "\n",
    "    \n",
    "ax1.set_xlabel('Product Name')\n",
    "ax1.set_ylabel('Quantity Ordered', color='y')\n",
    "ax2.set_ylabel('Price ($)', color='r')\n",
    "ax1.set_xticklabels(quantity_ordered.index, rotation = \"vertical\", size=8)\n",
    "\n",
    "plt.show()"
   ]
  },
  {
   "cell_type": "code",
   "execution_count": null,
   "id": "22c0615a",
   "metadata": {
    "papermill": {
     "duration": 0.014542,
     "end_time": "2023-03-31T05:32:37.442309",
     "exception": false,
     "start_time": "2023-03-31T05:32:37.427767",
     "status": "completed"
    },
    "tags": []
   },
   "outputs": [],
   "source": []
  }
 ],
 "metadata": {
  "kernelspec": {
   "display_name": "Python 3",
   "language": "python",
   "name": "python3"
  },
  "language_info": {
   "codemirror_mode": {
    "name": "ipython",
    "version": 3
   },
   "file_extension": ".py",
   "mimetype": "text/x-python",
   "name": "python",
   "nbconvert_exporter": "python",
   "pygments_lexer": "ipython3",
   "version": "3.7.12"
  },
  "papermill": {
   "default_parameters": {},
   "duration": 21.063046,
   "end_time": "2023-03-31T05:32:38.384149",
   "environment_variables": {},
   "exception": null,
   "input_path": "__notebook__.ipynb",
   "output_path": "__notebook__.ipynb",
   "parameters": {},
   "start_time": "2023-03-31T05:32:17.321103",
   "version": "2.4.0"
  }
 },
 "nbformat": 4,
 "nbformat_minor": 5
}
