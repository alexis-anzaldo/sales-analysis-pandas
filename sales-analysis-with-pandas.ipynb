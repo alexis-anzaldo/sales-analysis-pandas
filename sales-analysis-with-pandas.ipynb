{
 "cells": [
  {
   "cell_type": "code",
   "execution_count": 1,
   "id": "c57dff51",
   "metadata": {
    "_cell_guid": "b1076dfc-b9ad-4769-8c92-a6c4dae69d19",
    "_uuid": "8f2839f25d086af736a60e9eeb907d3b93b6e0e5",
    "execution": {
     "iopub.execute_input": "2023-03-31T06:12:09.132148Z",
     "iopub.status.busy": "2023-03-31T06:12:09.131699Z",
     "iopub.status.idle": "2023-03-31T06:12:09.150984Z",
     "shell.execute_reply": "2023-03-31T06:12:09.149929Z"
    },
    "papermill": {
     "duration": 0.032968,
     "end_time": "2023-03-31T06:12:09.153689",
     "exception": false,
     "start_time": "2023-03-31T06:12:09.120721",
     "status": "completed"
    },
    "tags": []
   },
   "outputs": [
    {
     "name": "stdout",
     "output_type": "stream",
     "text": [
      "/kaggle/input/sales-dataset-of-ecommerce-electronic-products/Updated_sales.csv\n",
      "/kaggle/input/sales-dataset-of-ecommerce-electronic-products/Sales_Data/Sales_August_2019.csv\n",
      "/kaggle/input/sales-dataset-of-ecommerce-electronic-products/Sales_Data/Sales_May_2019.csv\n",
      "/kaggle/input/sales-dataset-of-ecommerce-electronic-products/Sales_Data/Sales_February_2019.csv\n",
      "/kaggle/input/sales-dataset-of-ecommerce-electronic-products/Sales_Data/Sales_November_2019.csv\n",
      "/kaggle/input/sales-dataset-of-ecommerce-electronic-products/Sales_Data/Sales_January_2019.csv\n",
      "/kaggle/input/sales-dataset-of-ecommerce-electronic-products/Sales_Data/Sales_March_2019.csv\n",
      "/kaggle/input/sales-dataset-of-ecommerce-electronic-products/Sales_Data/Sales_September_2019.csv\n",
      "/kaggle/input/sales-dataset-of-ecommerce-electronic-products/Sales_Data/Sales_April_2019.csv\n",
      "/kaggle/input/sales-dataset-of-ecommerce-electronic-products/Sales_Data/Sales_July_2019.csv\n",
      "/kaggle/input/sales-dataset-of-ecommerce-electronic-products/Sales_Data/Sales_October_2019.csv\n",
      "/kaggle/input/sales-dataset-of-ecommerce-electronic-products/Sales_Data/Sales_June_2019.csv\n",
      "/kaggle/input/sales-dataset-of-ecommerce-electronic-products/Sales_Data/Sales_December_2019.csv\n"
     ]
    }
   ],
   "source": [
    "import os\n",
    "for dirname, _, filenames in os.walk('/kaggle/input'):\n",
    "    for filename in filenames:\n",
    "        print(os.path.join(dirname, filename))\n",
    "\n",
    "# You can write up to 20GB to the current directory (/kaggle/working/) that gets preserved as output when you create a version using \"Save & Run All\" \n",
    "# You can also write temporary files to /kaggle/temp/, but they won't be saved outside of the current session"
   ]
  },
  {
   "cell_type": "code",
   "execution_count": 2,
   "id": "700b5477",
   "metadata": {
    "execution": {
     "iopub.execute_input": "2023-03-31T06:12:09.172332Z",
     "iopub.status.busy": "2023-03-31T06:12:09.171536Z",
     "iopub.status.idle": "2023-03-31T06:12:09.176665Z",
     "shell.execute_reply": "2023-03-31T06:12:09.175612Z"
    },
    "papermill": {
     "duration": 0.017275,
     "end_time": "2023-03-31T06:12:09.179394",
     "exception": false,
     "start_time": "2023-03-31T06:12:09.162119",
     "status": "completed"
    },
    "tags": []
   },
   "outputs": [],
   "source": [
    "import pandas as pd"
   ]
  },
  {
   "cell_type": "markdown",
   "id": "057b3c45",
   "metadata": {
    "papermill": {
     "duration": 0.007756,
     "end_time": "2023-03-31T06:12:09.195787",
     "exception": false,
     "start_time": "2023-03-31T06:12:09.188031",
     "status": "completed"
    },
    "tags": []
   },
   "source": [
    "# First step: Merge all 12 month of sales data into a single file"
   ]
  },
  {
   "cell_type": "code",
   "execution_count": 3,
   "id": "33c1c641",
   "metadata": {
    "execution": {
     "iopub.execute_input": "2023-03-31T06:12:09.214419Z",
     "iopub.status.busy": "2023-03-31T06:12:09.213345Z",
     "iopub.status.idle": "2023-03-31T06:12:09.954867Z",
     "shell.execute_reply": "2023-03-31T06:12:09.952811Z"
    },
    "papermill": {
     "duration": 0.754436,
     "end_time": "2023-03-31T06:12:09.958406",
     "exception": false,
     "start_time": "2023-03-31T06:12:09.203970",
     "status": "completed"
    },
    "tags": []
   },
   "outputs": [
    {
     "data": {
      "text/html": [
       "<div>\n",
       "<style scoped>\n",
       "    .dataframe tbody tr th:only-of-type {\n",
       "        vertical-align: middle;\n",
       "    }\n",
       "\n",
       "    .dataframe tbody tr th {\n",
       "        vertical-align: top;\n",
       "    }\n",
       "\n",
       "    .dataframe thead th {\n",
       "        text-align: right;\n",
       "    }\n",
       "</style>\n",
       "<table border=\"1\" class=\"dataframe\">\n",
       "  <thead>\n",
       "    <tr style=\"text-align: right;\">\n",
       "      <th></th>\n",
       "      <th>Order ID</th>\n",
       "      <th>Product</th>\n",
       "      <th>Quantity Ordered</th>\n",
       "      <th>Price Each</th>\n",
       "      <th>Order Date</th>\n",
       "      <th>Purchase Address</th>\n",
       "    </tr>\n",
       "  </thead>\n",
       "  <tbody>\n",
       "    <tr>\n",
       "      <th>0</th>\n",
       "      <td>236670</td>\n",
       "      <td>Wired Headphones</td>\n",
       "      <td>2</td>\n",
       "      <td>11.99</td>\n",
       "      <td>08/31/19 22:21</td>\n",
       "      <td>359 Spruce St, Seattle, WA 98101</td>\n",
       "    </tr>\n",
       "    <tr>\n",
       "      <th>1</th>\n",
       "      <td>236671</td>\n",
       "      <td>Bose SoundSport Headphones</td>\n",
       "      <td>1</td>\n",
       "      <td>99.99</td>\n",
       "      <td>08/15/19 15:11</td>\n",
       "      <td>492 Ridge St, Dallas, TX 75001</td>\n",
       "    </tr>\n",
       "    <tr>\n",
       "      <th>2</th>\n",
       "      <td>236672</td>\n",
       "      <td>iPhone</td>\n",
       "      <td>1</td>\n",
       "      <td>700.0</td>\n",
       "      <td>08/06/19 14:40</td>\n",
       "      <td>149 7th St, Portland, OR 97035</td>\n",
       "    </tr>\n",
       "    <tr>\n",
       "      <th>3</th>\n",
       "      <td>236673</td>\n",
       "      <td>AA Batteries (4-pack)</td>\n",
       "      <td>2</td>\n",
       "      <td>3.84</td>\n",
       "      <td>08/29/19 20:59</td>\n",
       "      <td>631 2nd St, Los Angeles, CA 90001</td>\n",
       "    </tr>\n",
       "    <tr>\n",
       "      <th>4</th>\n",
       "      <td>236674</td>\n",
       "      <td>AA Batteries (4-pack)</td>\n",
       "      <td>2</td>\n",
       "      <td>3.84</td>\n",
       "      <td>08/15/19 19:53</td>\n",
       "      <td>736 14th St, New York City, NY 10001</td>\n",
       "    </tr>\n",
       "    <tr>\n",
       "      <th>...</th>\n",
       "      <td>...</td>\n",
       "      <td>...</td>\n",
       "      <td>...</td>\n",
       "      <td>...</td>\n",
       "      <td>...</td>\n",
       "      <td>...</td>\n",
       "    </tr>\n",
       "    <tr>\n",
       "      <th>25112</th>\n",
       "      <td>319666</td>\n",
       "      <td>Lightning Charging Cable</td>\n",
       "      <td>1</td>\n",
       "      <td>14.95</td>\n",
       "      <td>12/11/19 20:58</td>\n",
       "      <td>14 Madison St, San Francisco, CA 94016</td>\n",
       "    </tr>\n",
       "    <tr>\n",
       "      <th>25113</th>\n",
       "      <td>319667</td>\n",
       "      <td>AA Batteries (4-pack)</td>\n",
       "      <td>2</td>\n",
       "      <td>3.84</td>\n",
       "      <td>12/01/19 12:01</td>\n",
       "      <td>549 Willow St, Los Angeles, CA 90001</td>\n",
       "    </tr>\n",
       "    <tr>\n",
       "      <th>25114</th>\n",
       "      <td>319668</td>\n",
       "      <td>Vareebadd Phone</td>\n",
       "      <td>1</td>\n",
       "      <td>400</td>\n",
       "      <td>12/09/19 06:43</td>\n",
       "      <td>273 Wilson St, Seattle, WA 98101</td>\n",
       "    </tr>\n",
       "    <tr>\n",
       "      <th>25115</th>\n",
       "      <td>319669</td>\n",
       "      <td>Wired Headphones</td>\n",
       "      <td>1</td>\n",
       "      <td>11.99</td>\n",
       "      <td>12/03/19 10:39</td>\n",
       "      <td>778 River St, Dallas, TX 75001</td>\n",
       "    </tr>\n",
       "    <tr>\n",
       "      <th>25116</th>\n",
       "      <td>319670</td>\n",
       "      <td>Bose SoundSport Headphones</td>\n",
       "      <td>1</td>\n",
       "      <td>99.99</td>\n",
       "      <td>12/21/19 21:45</td>\n",
       "      <td>747 Chestnut St, Los Angeles, CA 90001</td>\n",
       "    </tr>\n",
       "  </tbody>\n",
       "</table>\n",
       "<p>186850 rows × 6 columns</p>\n",
       "</div>"
      ],
      "text/plain": [
       "      Order ID                     Product Quantity Ordered Price Each  \\\n",
       "0       236670            Wired Headphones                2      11.99   \n",
       "1       236671  Bose SoundSport Headphones                1      99.99   \n",
       "2       236672                      iPhone                1      700.0   \n",
       "3       236673       AA Batteries (4-pack)                2       3.84   \n",
       "4       236674       AA Batteries (4-pack)                2       3.84   \n",
       "...        ...                         ...              ...        ...   \n",
       "25112   319666    Lightning Charging Cable                1      14.95   \n",
       "25113   319667       AA Batteries (4-pack)                2       3.84   \n",
       "25114   319668             Vareebadd Phone                1        400   \n",
       "25115   319669            Wired Headphones                1      11.99   \n",
       "25116   319670  Bose SoundSport Headphones                1      99.99   \n",
       "\n",
       "           Order Date                        Purchase Address  \n",
       "0      08/31/19 22:21        359 Spruce St, Seattle, WA 98101  \n",
       "1      08/15/19 15:11          492 Ridge St, Dallas, TX 75001  \n",
       "2      08/06/19 14:40          149 7th St, Portland, OR 97035  \n",
       "3      08/29/19 20:59       631 2nd St, Los Angeles, CA 90001  \n",
       "4      08/15/19 19:53    736 14th St, New York City, NY 10001  \n",
       "...               ...                                     ...  \n",
       "25112  12/11/19 20:58  14 Madison St, San Francisco, CA 94016  \n",
       "25113  12/01/19 12:01    549 Willow St, Los Angeles, CA 90001  \n",
       "25114  12/09/19 06:43        273 Wilson St, Seattle, WA 98101  \n",
       "25115  12/03/19 10:39          778 River St, Dallas, TX 75001  \n",
       "25116  12/21/19 21:45  747 Chestnut St, Los Angeles, CA 90001  \n",
       "\n",
       "[186850 rows x 6 columns]"
      ]
     },
     "execution_count": 3,
     "metadata": {},
     "output_type": "execute_result"
    }
   ],
   "source": [
    "import os\n",
    "import glob\n",
    "#Change dir\n",
    "os.chdir(\"/kaggle/input/sales-dataset-of-ecommerce-electronic-products/Sales_Data/\")\n",
    "# match all csv\n",
    "extension = 'csv'\n",
    "all_filenames = [i for i in glob.glob('*.{}'.format(extension))]\n",
    "#combine all files in the list\n",
    "sales_dataframe = pd.concat([pd.read_csv(f) for f in all_filenames ])\n",
    "sales_dataframe\n"
   ]
  },
  {
   "cell_type": "markdown",
   "id": "22985b40",
   "metadata": {
    "papermill": {
     "duration": 0.009054,
     "end_time": "2023-03-31T06:12:09.976516",
     "exception": false,
     "start_time": "2023-03-31T06:12:09.967462",
     "status": "completed"
    },
    "tags": []
   },
   "source": [
    "# **Data cleaning**"
   ]
  },
  {
   "cell_type": "code",
   "execution_count": 4,
   "id": "3377c4b3",
   "metadata": {
    "execution": {
     "iopub.execute_input": "2023-03-31T06:12:09.996325Z",
     "iopub.status.busy": "2023-03-31T06:12:09.995780Z",
     "iopub.status.idle": "2023-03-31T06:12:10.135105Z",
     "shell.execute_reply": "2023-03-31T06:12:10.133926Z"
    },
    "papermill": {
     "duration": 0.152749,
     "end_time": "2023-03-31T06:12:10.137913",
     "exception": false,
     "start_time": "2023-03-31T06:12:09.985164",
     "status": "completed"
    },
    "tags": []
   },
   "outputs": [],
   "source": [
    "# Remove NaN values\n",
    "nan_df = sales_dataframe[sales_dataframe.isna().any(axis=1)]\n",
    "sales_dataframe = sales_dataframe.dropna(how='all')"
   ]
  },
  {
   "cell_type": "code",
   "execution_count": 5,
   "id": "cae83aa5",
   "metadata": {
    "execution": {
     "iopub.execute_input": "2023-03-31T06:12:10.157354Z",
     "iopub.status.busy": "2023-03-31T06:12:10.156823Z",
     "iopub.status.idle": "2023-03-31T06:12:10.406244Z",
     "shell.execute_reply": "2023-03-31T06:12:10.404614Z"
    },
    "papermill": {
     "duration": 0.262933,
     "end_time": "2023-03-31T06:12:10.409395",
     "exception": false,
     "start_time": "2023-03-31T06:12:10.146462",
     "status": "completed"
    },
    "tags": []
   },
   "outputs": [
    {
     "name": "stdout",
     "output_type": "stream",
     "text": [
      "len:  186305\n",
      "len with no duplicates:  185687\n"
     ]
    }
   ],
   "source": [
    "# Remove dupicates\n",
    "print(\"len: \", len(sales_dataframe.index))\n",
    "sales_dataframe = sales_dataframe.drop_duplicates()\n",
    "print(\"len with no duplicates: \", len(sales_dataframe.index))"
   ]
  },
  {
   "cell_type": "code",
   "execution_count": 6,
   "id": "7914e207",
   "metadata": {
    "execution": {
     "iopub.execute_input": "2023-03-31T06:12:10.429043Z",
     "iopub.status.busy": "2023-03-31T06:12:10.428586Z",
     "iopub.status.idle": "2023-03-31T06:12:10.594420Z",
     "shell.execute_reply": "2023-03-31T06:12:10.593042Z"
    },
    "papermill": {
     "duration": 0.179498,
     "end_time": "2023-03-31T06:12:10.597717",
     "exception": false,
     "start_time": "2023-03-31T06:12:10.418219",
     "status": "completed"
    },
    "tags": []
   },
   "outputs": [],
   "source": [
    "# Remove row with header column names created when combining files\n",
    "sales_dataframe = sales_dataframe[(sales_dataframe != sales_dataframe.columns).all(axis=1)]"
   ]
  },
  {
   "cell_type": "code",
   "execution_count": 7,
   "id": "1efda3e9",
   "metadata": {
    "execution": {
     "iopub.execute_input": "2023-03-31T06:12:10.618204Z",
     "iopub.status.busy": "2023-03-31T06:12:10.617748Z",
     "iopub.status.idle": "2023-03-31T06:12:10.813309Z",
     "shell.execute_reply": "2023-03-31T06:12:10.811765Z"
    },
    "papermill": {
     "duration": 0.209496,
     "end_time": "2023-03-31T06:12:10.816712",
     "exception": false,
     "start_time": "2023-03-31T06:12:10.607216",
     "status": "completed"
    },
    "tags": []
   },
   "outputs": [],
   "source": [
    "# Correct datatype\n",
    "sales_dataframe['Quantity Ordered'] = pd.to_numeric(sales_dataframe['Quantity Ordered'])\n",
    "sales_dataframe['Price Each'] = pd.to_numeric(sales_dataframe['Price Each'])"
   ]
  },
  {
   "cell_type": "markdown",
   "id": "8ccb30bb",
   "metadata": {
    "papermill": {
     "duration": 0.008195,
     "end_time": "2023-03-31T06:12:10.833544",
     "exception": false,
     "start_time": "2023-03-31T06:12:10.825349",
     "status": "completed"
    },
    "tags": []
   },
   "source": [
    "# **Question 1: What was the best month for sales? How much was earned that month?**"
   ]
  },
  {
   "cell_type": "code",
   "execution_count": 8,
   "id": "75f88f36",
   "metadata": {
    "execution": {
     "iopub.execute_input": "2023-03-31T06:12:10.853532Z",
     "iopub.status.busy": "2023-03-31T06:12:10.853107Z",
     "iopub.status.idle": "2023-03-31T06:12:12.061450Z",
     "shell.execute_reply": "2023-03-31T06:12:12.059655Z"
    },
    "papermill": {
     "duration": 1.221731,
     "end_time": "2023-03-31T06:12:12.064598",
     "exception": false,
     "start_time": "2023-03-31T06:12:10.842867",
     "status": "completed"
    },
    "tags": []
   },
   "outputs": [
    {
     "name": "stdout",
     "output_type": "stream",
     "text": [
      "Best month: 12, $4608295.7\n"
     ]
    }
   ],
   "source": [
    "# Split Order Date into Date and Hour\n",
    "sales_dataframe[[\"Date\", \"Hour\"]] = sales_dataframe[\"Order Date\"].str.split(\" \", expand=True)\n",
    "# Split Date into Month,Day, and Year\n",
    "sales_dataframe[[\"Month\", \"Day\", \"Year\"]] = sales_dataframe[\"Date\"].str.split(\"/\", expand=True)\n",
    "# Add a total column\n",
    "sales_dataframe[\"Total\"] = sales_dataframe[\"Quantity Ordered\"]*sales_dataframe[\"Price Each\"]\n",
    "\n",
    "# Get sales per month\n",
    "sales_per_month = sales_dataframe.groupby(sales_dataframe[\"Month\"])[\"Total\"].sum()\n",
    "best_month = sales_per_month.idxmax()\n",
    "sales_best_month = sales_per_month.max()\n",
    "\n",
    "print(f\"Best month: {best_month}, ${sales_best_month}\")"
   ]
  },
  {
   "cell_type": "code",
   "execution_count": 9,
   "id": "2dd76b8b",
   "metadata": {
    "execution": {
     "iopub.execute_input": "2023-03-31T06:12:12.084717Z",
     "iopub.status.busy": "2023-03-31T06:12:12.084280Z",
     "iopub.status.idle": "2023-03-31T06:12:12.356713Z",
     "shell.execute_reply": "2023-03-31T06:12:12.355240Z"
    },
    "papermill": {
     "duration": 0.286225,
     "end_time": "2023-03-31T06:12:12.359732",
     "exception": false,
     "start_time": "2023-03-31T06:12:12.073507",
     "status": "completed"
    },
    "tags": []
   },
   "outputs": [
    {
     "data": {
      "image/png": "[encoded data removed]",
      "text/plain": [
       "<Figure size 640x480 with 1 Axes>"
      ]
     },
     "metadata": {},
     "output_type": "display_data"
    }
   ],
   "source": [
    "import calendar\n",
    "import matplotlib.pyplot as plt\n",
    "\n",
    "# Get month names\n",
    "month_list = [calendar.month_name[int(item.strip(\"0\"))] for item in sales_per_month.index.to_list()]\n",
    "\n",
    "fig, ax = plt.subplots();\n",
    "bar_graph = ax.bar(month_list, sales_per_month.values)\n",
    "\n",
    "bar_graph[int(best_month)-1].set_facecolor('y')\n",
    "bar_graph[int(best_month)-1].set_hatch(\"/\")\n",
    "bar_graph[int(best_month)-1].set_edgecolor('r')\n",
    "\n",
    "plt.xticks(rotation=30, ha='right')\n",
    "plt.ylabel(\"USD ($)\")\n",
    "plt.xlabel(\"Months\")\n",
    "plt.show()"
   ]
  },
  {
   "cell_type": "markdown",
   "id": "5da8685f",
   "metadata": {
    "papermill": {
     "duration": 0.009437,
     "end_time": "2023-03-31T06:12:12.378504",
     "exception": false,
     "start_time": "2023-03-31T06:12:12.369067",
     "status": "completed"
    },
    "tags": []
   },
   "source": [
    "# **Question 2. What city had the highest number of sales**"
   ]
  },
  {
   "cell_type": "code",
   "execution_count": 10,
   "id": "76d7e319",
   "metadata": {
    "execution": {
     "iopub.execute_input": "2023-03-31T06:12:12.401375Z",
     "iopub.status.busy": "2023-03-31T06:12:12.400874Z",
     "iopub.status.idle": "2023-03-31T06:12:12.427002Z",
     "shell.execute_reply": "2023-03-31T06:12:12.425562Z"
    },
    "papermill": {
     "duration": 0.041892,
     "end_time": "2023-03-31T06:12:12.430075",
     "exception": false,
     "start_time": "2023-03-31T06:12:12.388183",
     "status": "completed"
    },
    "tags": []
   },
   "outputs": [
    {
     "data": {
      "text/html": [
       "<div>\n",
       "<style scoped>\n",
       "    .dataframe tbody tr th:only-of-type {\n",
       "        vertical-align: middle;\n",
       "    }\n",
       "\n",
       "    .dataframe tbody tr th {\n",
       "        vertical-align: top;\n",
       "    }\n",
       "\n",
       "    .dataframe thead th {\n",
       "        text-align: right;\n",
       "    }\n",
       "</style>\n",
       "<table border=\"1\" class=\"dataframe\">\n",
       "  <thead>\n",
       "    <tr style=\"text-align: right;\">\n",
       "      <th></th>\n",
       "      <th>Order ID</th>\n",
       "      <th>Product</th>\n",
       "      <th>Quantity Ordered</th>\n",
       "      <th>Price Each</th>\n",
       "      <th>Order Date</th>\n",
       "      <th>Purchase Address</th>\n",
       "      <th>Date</th>\n",
       "      <th>Hour</th>\n",
       "      <th>Month</th>\n",
       "      <th>Day</th>\n",
       "      <th>Year</th>\n",
       "      <th>Total</th>\n",
       "    </tr>\n",
       "  </thead>\n",
       "  <tbody>\n",
       "    <tr>\n",
       "      <th>0</th>\n",
       "      <td>236670</td>\n",
       "      <td>Wired Headphones</td>\n",
       "      <td>2</td>\n",
       "      <td>11.99</td>\n",
       "      <td>08/31/19 22:21</td>\n",
       "      <td>359 Spruce St, Seattle, WA 98101</td>\n",
       "      <td>08/31/19</td>\n",
       "      <td>22:21</td>\n",
       "      <td>08</td>\n",
       "      <td>31</td>\n",
       "      <td>19</td>\n",
       "      <td>23.98</td>\n",
       "    </tr>\n",
       "    <tr>\n",
       "      <th>1</th>\n",
       "      <td>236671</td>\n",
       "      <td>Bose SoundSport Headphones</td>\n",
       "      <td>1</td>\n",
       "      <td>99.99</td>\n",
       "      <td>08/15/19 15:11</td>\n",
       "      <td>492 Ridge St, Dallas, TX 75001</td>\n",
       "      <td>08/15/19</td>\n",
       "      <td>15:11</td>\n",
       "      <td>08</td>\n",
       "      <td>15</td>\n",
       "      <td>19</td>\n",
       "      <td>99.99</td>\n",
       "    </tr>\n",
       "    <tr>\n",
       "      <th>2</th>\n",
       "      <td>236672</td>\n",
       "      <td>iPhone</td>\n",
       "      <td>1</td>\n",
       "      <td>700.00</td>\n",
       "      <td>08/06/19 14:40</td>\n",
       "      <td>149 7th St, Portland, OR 97035</td>\n",
       "      <td>08/06/19</td>\n",
       "      <td>14:40</td>\n",
       "      <td>08</td>\n",
       "      <td>06</td>\n",
       "      <td>19</td>\n",
       "      <td>700.00</td>\n",
       "    </tr>\n",
       "    <tr>\n",
       "      <th>3</th>\n",
       "      <td>236673</td>\n",
       "      <td>AA Batteries (4-pack)</td>\n",
       "      <td>2</td>\n",
       "      <td>3.84</td>\n",
       "      <td>08/29/19 20:59</td>\n",
       "      <td>631 2nd St, Los Angeles, CA 90001</td>\n",
       "      <td>08/29/19</td>\n",
       "      <td>20:59</td>\n",
       "      <td>08</td>\n",
       "      <td>29</td>\n",
       "      <td>19</td>\n",
       "      <td>7.68</td>\n",
       "    </tr>\n",
       "    <tr>\n",
       "      <th>4</th>\n",
       "      <td>236674</td>\n",
       "      <td>AA Batteries (4-pack)</td>\n",
       "      <td>2</td>\n",
       "      <td>3.84</td>\n",
       "      <td>08/15/19 19:53</td>\n",
       "      <td>736 14th St, New York City, NY 10001</td>\n",
       "      <td>08/15/19</td>\n",
       "      <td>19:53</td>\n",
       "      <td>08</td>\n",
       "      <td>15</td>\n",
       "      <td>19</td>\n",
       "      <td>7.68</td>\n",
       "    </tr>\n",
       "  </tbody>\n",
       "</table>\n",
       "</div>"
      ],
      "text/plain": [
       "  Order ID                     Product  Quantity Ordered  Price Each  \\\n",
       "0   236670            Wired Headphones                 2       11.99   \n",
       "1   236671  Bose SoundSport Headphones                 1       99.99   \n",
       "2   236672                      iPhone                 1      700.00   \n",
       "3   236673       AA Batteries (4-pack)                 2        3.84   \n",
       "4   236674       AA Batteries (4-pack)                 2        3.84   \n",
       "\n",
       "       Order Date                      Purchase Address      Date   Hour  \\\n",
       "0  08/31/19 22:21      359 Spruce St, Seattle, WA 98101  08/31/19  22:21   \n",
       "1  08/15/19 15:11        492 Ridge St, Dallas, TX 75001  08/15/19  15:11   \n",
       "2  08/06/19 14:40        149 7th St, Portland, OR 97035  08/06/19  14:40   \n",
       "3  08/29/19 20:59     631 2nd St, Los Angeles, CA 90001  08/29/19  20:59   \n",
       "4  08/15/19 19:53  736 14th St, New York City, NY 10001  08/15/19  19:53   \n",
       "\n",
       "  Month Day Year   Total  \n",
       "0    08  31   19   23.98  \n",
       "1    08  15   19   99.99  \n",
       "2    08  06   19  700.00  \n",
       "3    08  29   19    7.68  \n",
       "4    08  15   19    7.68  "
      ]
     },
     "execution_count": 10,
     "metadata": {},
     "output_type": "execute_result"
    }
   ],
   "source": [
    "sales_dataframe.head()"
   ]
  },
  {
   "cell_type": "code",
   "execution_count": 11,
   "id": "f9e172aa",
   "metadata": {
    "execution": {
     "iopub.execute_input": "2023-03-31T06:12:12.453949Z",
     "iopub.status.busy": "2023-03-31T06:12:12.452954Z",
     "iopub.status.idle": "2023-03-31T06:12:12.675743Z",
     "shell.execute_reply": "2023-03-31T06:12:12.674027Z"
    },
    "papermill": {
     "duration": 0.237843,
     "end_time": "2023-03-31T06:12:12.678751",
     "exception": false,
     "start_time": "2023-03-31T06:12:12.440908",
     "status": "completed"
    },
    "tags": []
   },
   "outputs": [
    {
     "data": {
      "text/html": [
       "<div>\n",
       "<style scoped>\n",
       "    .dataframe tbody tr th:only-of-type {\n",
       "        vertical-align: middle;\n",
       "    }\n",
       "\n",
       "    .dataframe tbody tr th {\n",
       "        vertical-align: top;\n",
       "    }\n",
       "\n",
       "    .dataframe thead th {\n",
       "        text-align: right;\n",
       "    }\n",
       "</style>\n",
       "<table border=\"1\" class=\"dataframe\">\n",
       "  <thead>\n",
       "    <tr style=\"text-align: right;\">\n",
       "      <th></th>\n",
       "      <th>Order ID</th>\n",
       "      <th>Product</th>\n",
       "      <th>Quantity Ordered</th>\n",
       "      <th>Price Each</th>\n",
       "      <th>Order Date</th>\n",
       "      <th>Purchase Address</th>\n",
       "      <th>Date</th>\n",
       "      <th>Hour</th>\n",
       "      <th>Month</th>\n",
       "      <th>Day</th>\n",
       "      <th>Year</th>\n",
       "      <th>Total</th>\n",
       "      <th>City</th>\n",
       "    </tr>\n",
       "  </thead>\n",
       "  <tbody>\n",
       "    <tr>\n",
       "      <th>0</th>\n",
       "      <td>236670</td>\n",
       "      <td>Wired Headphones</td>\n",
       "      <td>2</td>\n",
       "      <td>11.99</td>\n",
       "      <td>08/31/19 22:21</td>\n",
       "      <td>359 Spruce St, Seattle, WA 98101</td>\n",
       "      <td>08/31/19</td>\n",
       "      <td>22:21</td>\n",
       "      <td>08</td>\n",
       "      <td>31</td>\n",
       "      <td>19</td>\n",
       "      <td>23.98</td>\n",
       "      <td>Seattle (WA)</td>\n",
       "    </tr>\n",
       "    <tr>\n",
       "      <th>1</th>\n",
       "      <td>236671</td>\n",
       "      <td>Bose SoundSport Headphones</td>\n",
       "      <td>1</td>\n",
       "      <td>99.99</td>\n",
       "      <td>08/15/19 15:11</td>\n",
       "      <td>492 Ridge St, Dallas, TX 75001</td>\n",
       "      <td>08/15/19</td>\n",
       "      <td>15:11</td>\n",
       "      <td>08</td>\n",
       "      <td>15</td>\n",
       "      <td>19</td>\n",
       "      <td>99.99</td>\n",
       "      <td>Dallas (TX)</td>\n",
       "    </tr>\n",
       "    <tr>\n",
       "      <th>2</th>\n",
       "      <td>236672</td>\n",
       "      <td>iPhone</td>\n",
       "      <td>1</td>\n",
       "      <td>700.00</td>\n",
       "      <td>08/06/19 14:40</td>\n",
       "      <td>149 7th St, Portland, OR 97035</td>\n",
       "      <td>08/06/19</td>\n",
       "      <td>14:40</td>\n",
       "      <td>08</td>\n",
       "      <td>06</td>\n",
       "      <td>19</td>\n",
       "      <td>700.00</td>\n",
       "      <td>Portland (OR)</td>\n",
       "    </tr>\n",
       "    <tr>\n",
       "      <th>3</th>\n",
       "      <td>236673</td>\n",
       "      <td>AA Batteries (4-pack)</td>\n",
       "      <td>2</td>\n",
       "      <td>3.84</td>\n",
       "      <td>08/29/19 20:59</td>\n",
       "      <td>631 2nd St, Los Angeles, CA 90001</td>\n",
       "      <td>08/29/19</td>\n",
       "      <td>20:59</td>\n",
       "      <td>08</td>\n",
       "      <td>29</td>\n",
       "      <td>19</td>\n",
       "      <td>7.68</td>\n",
       "      <td>Los Angeles (CA)</td>\n",
       "    </tr>\n",
       "    <tr>\n",
       "      <th>4</th>\n",
       "      <td>236674</td>\n",
       "      <td>AA Batteries (4-pack)</td>\n",
       "      <td>2</td>\n",
       "      <td>3.84</td>\n",
       "      <td>08/15/19 19:53</td>\n",
       "      <td>736 14th St, New York City, NY 10001</td>\n",
       "      <td>08/15/19</td>\n",
       "      <td>19:53</td>\n",
       "      <td>08</td>\n",
       "      <td>15</td>\n",
       "      <td>19</td>\n",
       "      <td>7.68</td>\n",
       "      <td>New York City (NY)</td>\n",
       "    </tr>\n",
       "  </tbody>\n",
       "</table>\n",
       "</div>"
      ],
      "text/plain": [
       "  Order ID                     Product  Quantity Ordered  Price Each  \\\n",
       "0   236670            Wired Headphones                 2       11.99   \n",
       "1   236671  Bose SoundSport Headphones                 1       99.99   \n",
       "2   236672                      iPhone                 1      700.00   \n",
       "3   236673       AA Batteries (4-pack)                 2        3.84   \n",
       "4   236674       AA Batteries (4-pack)                 2        3.84   \n",
       "\n",
       "       Order Date                      Purchase Address      Date   Hour  \\\n",
       "0  08/31/19 22:21      359 Spruce St, Seattle, WA 98101  08/31/19  22:21   \n",
       "1  08/15/19 15:11        492 Ridge St, Dallas, TX 75001  08/15/19  15:11   \n",
       "2  08/06/19 14:40        149 7th St, Portland, OR 97035  08/06/19  14:40   \n",
       "3  08/29/19 20:59     631 2nd St, Los Angeles, CA 90001  08/29/19  20:59   \n",
       "4  08/15/19 19:53  736 14th St, New York City, NY 10001  08/15/19  19:53   \n",
       "\n",
       "  Month Day Year   Total                City  \n",
       "0    08  31   19   23.98        Seattle (WA)  \n",
       "1    08  15   19   99.99         Dallas (TX)  \n",
       "2    08  06   19  700.00       Portland (OR)  \n",
       "3    08  29   19    7.68    Los Angeles (CA)  \n",
       "4    08  15   19    7.68  New York City (NY)  "
      ]
     },
     "execution_count": 11,
     "metadata": {},
     "output_type": "execute_result"
    }
   ],
   "source": [
    "# City From Purchase Address\n",
    "sales_dataframe[\"City\"] = sales_dataframe[\"Purchase Address\"].apply(lambda x: f'{x.split(\", \")[1]} ({x.split(\", \")[2].split(\" \")[0]})')\n",
    "sales_dataframe.head()"
   ]
  },
  {
   "cell_type": "code",
   "execution_count": 12,
   "id": "c6f3bc10",
   "metadata": {
    "execution": {
     "iopub.execute_input": "2023-03-31T06:12:12.701346Z",
     "iopub.status.busy": "2023-03-31T06:12:12.700922Z",
     "iopub.status.idle": "2023-03-31T06:12:12.732402Z",
     "shell.execute_reply": "2023-03-31T06:12:12.730790Z"
    },
    "papermill": {
     "duration": 0.04721,
     "end_time": "2023-03-31T06:12:12.735914",
     "exception": false,
     "start_time": "2023-03-31T06:12:12.688704",
     "status": "completed"
    },
    "tags": []
   },
   "outputs": [
    {
     "name": "stdout",
     "output_type": "stream",
     "text": [
      "City with the greatst number of sales: San Francisco (CA), $8254743.55\n"
     ]
    }
   ],
   "source": [
    "# Get City with the greatest number of sales\n",
    "# Get sales per month\n",
    "city_sales_per_month = sales_dataframe.groupby(sales_dataframe[\"City\"])[\"Total\"].sum()\n",
    "city_best_month = city_sales_per_month.idxmax()\n",
    "sales_city_best_month = city_sales_per_month.max()\n",
    "\n",
    "print(f\"City with the greatst number of sales: {city_best_month}, ${sales_city_best_month}\")"
   ]
  },
  {
   "cell_type": "code",
   "execution_count": 13,
   "id": "d9cd1e0d",
   "metadata": {
    "execution": {
     "iopub.execute_input": "2023-03-31T06:12:12.759353Z",
     "iopub.status.busy": "2023-03-31T06:12:12.757888Z",
     "iopub.status.idle": "2023-03-31T06:12:13.005793Z",
     "shell.execute_reply": "2023-03-31T06:12:13.004440Z"
    },
    "papermill": {
     "duration": 0.262066,
     "end_time": "2023-03-31T06:12:13.008607",
     "exception": false,
     "start_time": "2023-03-31T06:12:12.746541",
     "status": "completed"
    },
    "tags": []
   },
   "outputs": [
    {
     "data": {
      "image/png": "[encoded data removed]",
      "text/plain": [
       "<Figure size 640x480 with 1 Axes>"
      ]
     },
     "metadata": {},
     "output_type": "display_data"
    }
   ],
   "source": [
    "fig, ax = plt.subplots();\n",
    "bar_graph = ax.bar(city_sales_per_month.index, city_sales_per_month.values)\n",
    "\n",
    "# to get positional index\n",
    "import numpy as np\n",
    "indexes = np.arange(len(city_sales_per_month.index))\n",
    "index_dict = {k:v for k, v in zip(city_sales_per_month.index, indexes)}\n",
    "\n",
    "bar_graph[int(index_dict[city_sales_per_month.idxmax()])].set_facecolor('y')\n",
    "bar_graph[int(index_dict[city_sales_per_month.idxmax()])].set_hatch(\"/\")\n",
    "bar_graph[int(index_dict[city_sales_per_month.idxmax()])].set_edgecolor('r')\n",
    "\n",
    "plt.xticks(rotation=30, ha='right')\n",
    "plt.ylabel(\"USD ($)\")\n",
    "plt.xlabel(\"City\")\n",
    "plt.show()"
   ]
  },
  {
   "cell_type": "markdown",
   "id": "5064a18d",
   "metadata": {
    "papermill": {
     "duration": 0.011192,
     "end_time": "2023-03-31T06:12:13.030676",
     "exception": false,
     "start_time": "2023-03-31T06:12:13.019484",
     "status": "completed"
    },
    "tags": []
   },
   "source": [
    "# **Question 3: What time should we display advertisements to maximize likelihood of curstomer's buying product?**"
   ]
  },
  {
   "cell_type": "code",
   "execution_count": 14,
   "id": "eb12cfb1",
   "metadata": {
    "execution": {
     "iopub.execute_input": "2023-03-31T06:12:13.054370Z",
     "iopub.status.busy": "2023-03-31T06:12:13.053923Z",
     "iopub.status.idle": "2023-03-31T06:12:13.076413Z",
     "shell.execute_reply": "2023-03-31T06:12:13.075035Z"
    },
    "papermill": {
     "duration": 0.038294,
     "end_time": "2023-03-31T06:12:13.079595",
     "exception": false,
     "start_time": "2023-03-31T06:12:13.041301",
     "status": "completed"
    },
    "tags": []
   },
   "outputs": [
    {
     "data": {
      "text/html": [
       "<div>\n",
       "<style scoped>\n",
       "    .dataframe tbody tr th:only-of-type {\n",
       "        vertical-align: middle;\n",
       "    }\n",
       "\n",
       "    .dataframe tbody tr th {\n",
       "        vertical-align: top;\n",
       "    }\n",
       "\n",
       "    .dataframe thead th {\n",
       "        text-align: right;\n",
       "    }\n",
       "</style>\n",
       "<table border=\"1\" class=\"dataframe\">\n",
       "  <thead>\n",
       "    <tr style=\"text-align: right;\">\n",
       "      <th></th>\n",
       "      <th>Order ID</th>\n",
       "      <th>Product</th>\n",
       "      <th>Quantity Ordered</th>\n",
       "      <th>Price Each</th>\n",
       "      <th>Order Date</th>\n",
       "      <th>Purchase Address</th>\n",
       "      <th>Date</th>\n",
       "      <th>Hour</th>\n",
       "      <th>Month</th>\n",
       "      <th>Day</th>\n",
       "      <th>Year</th>\n",
       "      <th>Total</th>\n",
       "      <th>City</th>\n",
       "    </tr>\n",
       "  </thead>\n",
       "  <tbody>\n",
       "    <tr>\n",
       "      <th>0</th>\n",
       "      <td>236670</td>\n",
       "      <td>Wired Headphones</td>\n",
       "      <td>2</td>\n",
       "      <td>11.99</td>\n",
       "      <td>08/31/19 22:21</td>\n",
       "      <td>359 Spruce St, Seattle, WA 98101</td>\n",
       "      <td>08/31/19</td>\n",
       "      <td>22:21</td>\n",
       "      <td>08</td>\n",
       "      <td>31</td>\n",
       "      <td>19</td>\n",
       "      <td>23.98</td>\n",
       "      <td>Seattle (WA)</td>\n",
       "    </tr>\n",
       "    <tr>\n",
       "      <th>1</th>\n",
       "      <td>236671</td>\n",
       "      <td>Bose SoundSport Headphones</td>\n",
       "      <td>1</td>\n",
       "      <td>99.99</td>\n",
       "      <td>08/15/19 15:11</td>\n",
       "      <td>492 Ridge St, Dallas, TX 75001</td>\n",
       "      <td>08/15/19</td>\n",
       "      <td>15:11</td>\n",
       "      <td>08</td>\n",
       "      <td>15</td>\n",
       "      <td>19</td>\n",
       "      <td>99.99</td>\n",
       "      <td>Dallas (TX)</td>\n",
       "    </tr>\n",
       "    <tr>\n",
       "      <th>2</th>\n",
       "      <td>236672</td>\n",
       "      <td>iPhone</td>\n",
       "      <td>1</td>\n",
       "      <td>700.00</td>\n",
       "      <td>08/06/19 14:40</td>\n",
       "      <td>149 7th St, Portland, OR 97035</td>\n",
       "      <td>08/06/19</td>\n",
       "      <td>14:40</td>\n",
       "      <td>08</td>\n",
       "      <td>06</td>\n",
       "      <td>19</td>\n",
       "      <td>700.00</td>\n",
       "      <td>Portland (OR)</td>\n",
       "    </tr>\n",
       "    <tr>\n",
       "      <th>3</th>\n",
       "      <td>236673</td>\n",
       "      <td>AA Batteries (4-pack)</td>\n",
       "      <td>2</td>\n",
       "      <td>3.84</td>\n",
       "      <td>08/29/19 20:59</td>\n",
       "      <td>631 2nd St, Los Angeles, CA 90001</td>\n",
       "      <td>08/29/19</td>\n",
       "      <td>20:59</td>\n",
       "      <td>08</td>\n",
       "      <td>29</td>\n",
       "      <td>19</td>\n",
       "      <td>7.68</td>\n",
       "      <td>Los Angeles (CA)</td>\n",
       "    </tr>\n",
       "    <tr>\n",
       "      <th>4</th>\n",
       "      <td>236674</td>\n",
       "      <td>AA Batteries (4-pack)</td>\n",
       "      <td>2</td>\n",
       "      <td>3.84</td>\n",
       "      <td>08/15/19 19:53</td>\n",
       "      <td>736 14th St, New York City, NY 10001</td>\n",
       "      <td>08/15/19</td>\n",
       "      <td>19:53</td>\n",
       "      <td>08</td>\n",
       "      <td>15</td>\n",
       "      <td>19</td>\n",
       "      <td>7.68</td>\n",
       "      <td>New York City (NY)</td>\n",
       "    </tr>\n",
       "  </tbody>\n",
       "</table>\n",
       "</div>"
      ],
      "text/plain": [
       "  Order ID                     Product  Quantity Ordered  Price Each  \\\n",
       "0   236670            Wired Headphones                 2       11.99   \n",
       "1   236671  Bose SoundSport Headphones                 1       99.99   \n",
       "2   236672                      iPhone                 1      700.00   \n",
       "3   236673       AA Batteries (4-pack)                 2        3.84   \n",
       "4   236674       AA Batteries (4-pack)                 2        3.84   \n",
       "\n",
       "       Order Date                      Purchase Address      Date   Hour  \\\n",
       "0  08/31/19 22:21      359 Spruce St, Seattle, WA 98101  08/31/19  22:21   \n",
       "1  08/15/19 15:11        492 Ridge St, Dallas, TX 75001  08/15/19  15:11   \n",
       "2  08/06/19 14:40        149 7th St, Portland, OR 97035  08/06/19  14:40   \n",
       "3  08/29/19 20:59     631 2nd St, Los Angeles, CA 90001  08/29/19  20:59   \n",
       "4  08/15/19 19:53  736 14th St, New York City, NY 10001  08/15/19  19:53   \n",
       "\n",
       "  Month Day Year   Total                City  \n",
       "0    08  31   19   23.98        Seattle (WA)  \n",
       "1    08  15   19   99.99         Dallas (TX)  \n",
       "2    08  06   19  700.00       Portland (OR)  \n",
       "3    08  29   19    7.68    Los Angeles (CA)  \n",
       "4    08  15   19    7.68  New York City (NY)  "
      ]
     },
     "execution_count": 14,
     "metadata": {},
     "output_type": "execute_result"
    }
   ],
   "source": [
    "sales_dataframe.head()"
   ]
  },
  {
   "cell_type": "code",
   "execution_count": 15,
   "id": "3e8215e3",
   "metadata": {
    "execution": {
     "iopub.execute_input": "2023-03-31T06:12:13.104789Z",
     "iopub.status.busy": "2023-03-31T06:12:13.104315Z",
     "iopub.status.idle": "2023-03-31T06:12:13.203495Z",
     "shell.execute_reply": "2023-03-31T06:12:13.201848Z"
    },
    "papermill": {
     "duration": 0.114937,
     "end_time": "2023-03-31T06:12:13.206464",
     "exception": false,
     "start_time": "2023-03-31T06:12:13.091527",
     "status": "completed"
    },
    "tags": []
   },
   "outputs": [
    {
     "data": {
      "text/html": [
       "<div>\n",
       "<style scoped>\n",
       "    .dataframe tbody tr th:only-of-type {\n",
       "        vertical-align: middle;\n",
       "    }\n",
       "\n",
       "    .dataframe tbody tr th {\n",
       "        vertical-align: top;\n",
       "    }\n",
       "\n",
       "    .dataframe thead th {\n",
       "        text-align: right;\n",
       "    }\n",
       "</style>\n",
       "<table border=\"1\" class=\"dataframe\">\n",
       "  <thead>\n",
       "    <tr style=\"text-align: right;\">\n",
       "      <th></th>\n",
       "      <th>Order ID</th>\n",
       "      <th>Product</th>\n",
       "      <th>Quantity Ordered</th>\n",
       "      <th>Price Each</th>\n",
       "      <th>Order Date</th>\n",
       "      <th>Purchase Address</th>\n",
       "      <th>Date</th>\n",
       "      <th>Hour</th>\n",
       "      <th>Month</th>\n",
       "      <th>Day</th>\n",
       "      <th>Year</th>\n",
       "      <th>Total</th>\n",
       "      <th>City</th>\n",
       "      <th>Hour(24h)</th>\n",
       "    </tr>\n",
       "  </thead>\n",
       "  <tbody>\n",
       "    <tr>\n",
       "      <th>0</th>\n",
       "      <td>236670</td>\n",
       "      <td>Wired Headphones</td>\n",
       "      <td>2</td>\n",
       "      <td>11.99</td>\n",
       "      <td>08/31/19 22:21</td>\n",
       "      <td>359 Spruce St, Seattle, WA 98101</td>\n",
       "      <td>08/31/19</td>\n",
       "      <td>22:21</td>\n",
       "      <td>08</td>\n",
       "      <td>31</td>\n",
       "      <td>19</td>\n",
       "      <td>23.98</td>\n",
       "      <td>Seattle (WA)</td>\n",
       "      <td>22</td>\n",
       "    </tr>\n",
       "    <tr>\n",
       "      <th>1</th>\n",
       "      <td>236671</td>\n",
       "      <td>Bose SoundSport Headphones</td>\n",
       "      <td>1</td>\n",
       "      <td>99.99</td>\n",
       "      <td>08/15/19 15:11</td>\n",
       "      <td>492 Ridge St, Dallas, TX 75001</td>\n",
       "      <td>08/15/19</td>\n",
       "      <td>15:11</td>\n",
       "      <td>08</td>\n",
       "      <td>15</td>\n",
       "      <td>19</td>\n",
       "      <td>99.99</td>\n",
       "      <td>Dallas (TX)</td>\n",
       "      <td>15</td>\n",
       "    </tr>\n",
       "    <tr>\n",
       "      <th>2</th>\n",
       "      <td>236672</td>\n",
       "      <td>iPhone</td>\n",
       "      <td>1</td>\n",
       "      <td>700.00</td>\n",
       "      <td>08/06/19 14:40</td>\n",
       "      <td>149 7th St, Portland, OR 97035</td>\n",
       "      <td>08/06/19</td>\n",
       "      <td>14:40</td>\n",
       "      <td>08</td>\n",
       "      <td>06</td>\n",
       "      <td>19</td>\n",
       "      <td>700.00</td>\n",
       "      <td>Portland (OR)</td>\n",
       "      <td>14</td>\n",
       "    </tr>\n",
       "    <tr>\n",
       "      <th>3</th>\n",
       "      <td>236673</td>\n",
       "      <td>AA Batteries (4-pack)</td>\n",
       "      <td>2</td>\n",
       "      <td>3.84</td>\n",
       "      <td>08/29/19 20:59</td>\n",
       "      <td>631 2nd St, Los Angeles, CA 90001</td>\n",
       "      <td>08/29/19</td>\n",
       "      <td>20:59</td>\n",
       "      <td>08</td>\n",
       "      <td>29</td>\n",
       "      <td>19</td>\n",
       "      <td>7.68</td>\n",
       "      <td>Los Angeles (CA)</td>\n",
       "      <td>20</td>\n",
       "    </tr>\n",
       "    <tr>\n",
       "      <th>4</th>\n",
       "      <td>236674</td>\n",
       "      <td>AA Batteries (4-pack)</td>\n",
       "      <td>2</td>\n",
       "      <td>3.84</td>\n",
       "      <td>08/15/19 19:53</td>\n",
       "      <td>736 14th St, New York City, NY 10001</td>\n",
       "      <td>08/15/19</td>\n",
       "      <td>19:53</td>\n",
       "      <td>08</td>\n",
       "      <td>15</td>\n",
       "      <td>19</td>\n",
       "      <td>7.68</td>\n",
       "      <td>New York City (NY)</td>\n",
       "      <td>19</td>\n",
       "    </tr>\n",
       "  </tbody>\n",
       "</table>\n",
       "</div>"
      ],
      "text/plain": [
       "  Order ID                     Product  Quantity Ordered  Price Each  \\\n",
       "0   236670            Wired Headphones                 2       11.99   \n",
       "1   236671  Bose SoundSport Headphones                 1       99.99   \n",
       "2   236672                      iPhone                 1      700.00   \n",
       "3   236673       AA Batteries (4-pack)                 2        3.84   \n",
       "4   236674       AA Batteries (4-pack)                 2        3.84   \n",
       "\n",
       "       Order Date                      Purchase Address      Date   Hour  \\\n",
       "0  08/31/19 22:21      359 Spruce St, Seattle, WA 98101  08/31/19  22:21   \n",
       "1  08/15/19 15:11        492 Ridge St, Dallas, TX 75001  08/15/19  15:11   \n",
       "2  08/06/19 14:40        149 7th St, Portland, OR 97035  08/06/19  14:40   \n",
       "3  08/29/19 20:59     631 2nd St, Los Angeles, CA 90001  08/29/19  20:59   \n",
       "4  08/15/19 19:53  736 14th St, New York City, NY 10001  08/15/19  19:53   \n",
       "\n",
       "  Month Day Year   Total                City Hour(24h)  \n",
       "0    08  31   19   23.98        Seattle (WA)        22  \n",
       "1    08  15   19   99.99         Dallas (TX)        15  \n",
       "2    08  06   19  700.00       Portland (OR)        14  \n",
       "3    08  29   19    7.68    Los Angeles (CA)        20  \n",
       "4    08  15   19    7.68  New York City (NY)        19  "
      ]
     },
     "execution_count": 15,
     "metadata": {},
     "output_type": "execute_result"
    }
   ],
   "source": [
    "# Get hours witouth minutes\n",
    "month_list = [calendar.month_name[int(item.strip(\"0\"))] for item in sales_per_month.index.to_list()]\n",
    "sales_dataframe[\"Hour(24h)\"] = sales_dataframe[\"Hour\"].apply(lambda x: x.split(\":\")[0])\n",
    "sales_dataframe.head()"
   ]
  },
  {
   "cell_type": "code",
   "execution_count": 16,
   "id": "1b64acfe",
   "metadata": {
    "execution": {
     "iopub.execute_input": "2023-03-31T06:12:13.230751Z",
     "iopub.status.busy": "2023-03-31T06:12:13.230341Z",
     "iopub.status.idle": "2023-03-31T06:12:13.254975Z",
     "shell.execute_reply": "2023-03-31T06:12:13.253748Z"
    },
    "papermill": {
     "duration": 0.040778,
     "end_time": "2023-03-31T06:12:13.258492",
     "exception": false,
     "start_time": "2023-03-31T06:12:13.217714",
     "status": "completed"
    },
    "tags": []
   },
   "outputs": [
    {
     "name": "stdout",
     "output_type": "stream",
     "text": [
      "Best hour: 19, number of purchases: 12886\n"
     ]
    }
   ],
   "source": [
    "#Group hours in 24hrs format and graph the number of purchases by hour\n",
    "sales_per_hour = sales_dataframe.groupby(sales_dataframe[\"Hour(24h)\"]).size()\n",
    "#sales_per_hour\n",
    "best_hour = sales_per_hour.idxmax()\n",
    "count_best_hour = sales_per_hour.max()\n",
    "\n",
    "print(f\"Best hour: {best_hour}, number of purchases: {count_best_hour}\")"
   ]
  },
  {
   "cell_type": "code",
   "execution_count": 17,
   "id": "26b43b89",
   "metadata": {
    "execution": {
     "iopub.execute_input": "2023-03-31T06:12:13.284297Z",
     "iopub.status.busy": "2023-03-31T06:12:13.283128Z",
     "iopub.status.idle": "2023-03-31T06:12:13.294435Z",
     "shell.execute_reply": "2023-03-31T06:12:13.292898Z"
    },
    "papermill": {
     "duration": 0.027646,
     "end_time": "2023-03-31T06:12:13.297348",
     "exception": false,
     "start_time": "2023-03-31T06:12:13.269702",
     "status": "completed"
    },
    "tags": []
   },
   "outputs": [
    {
     "data": {
      "text/plain": [
       "Index(['12', '11', '18', '20'], dtype='object', name='Hour(24h)')"
      ]
     },
     "execution_count": 17,
     "metadata": {},
     "output_type": "execute_result"
    }
   ],
   "source": [
    "sales_per_hour.nlargest(5).index[1:]"
   ]
  },
  {
   "cell_type": "code",
   "execution_count": 18,
   "id": "3c0f856a",
   "metadata": {
    "execution": {
     "iopub.execute_input": "2023-03-31T06:12:13.322054Z",
     "iopub.status.busy": "2023-03-31T06:12:13.321569Z",
     "iopub.status.idle": "2023-03-31T06:12:13.672196Z",
     "shell.execute_reply": "2023-03-31T06:12:13.670553Z"
    },
    "papermill": {
     "duration": 0.366317,
     "end_time": "2023-03-31T06:12:13.675184",
     "exception": false,
     "start_time": "2023-03-31T06:12:13.308867",
     "status": "completed"
    },
    "tags": []
   },
   "outputs": [
    {
     "data": {
      "image/png": "[encoded data removed]",
      "text/plain": [
       "<Figure size 640x480 with 1 Axes>"
      ]
     },
     "metadata": {},
     "output_type": "display_data"
    }
   ],
   "source": [
    "fig, ax = plt.subplots();\n",
    "bar_graph = ax.bar(sales_per_hour.index, sales_per_hour.values)\n",
    "\n",
    "for x in sales_per_hour.nlargest(5).index:\n",
    "    bar_graph[int(x)].set_facecolor('y')\n",
    "\n",
    "bar_graph[int(best_hour)].set_hatch(\"/\")\n",
    "bar_graph[int(best_hour)].set_edgecolor('r')\n",
    "    \n",
    "colors = {'highest hour':'yellow', 'top five hours':'yellow'}\n",
    "hatchs = {'highest hour':'/', 'top five hours':'/'}\n",
    "edgecolors = {'highest hour':'red', 'top five hours':'yellow'}\n",
    "labels = list(colors.keys())\n",
    "handles = [plt.Rectangle((0,0),1,1, facecolor=colors[label], hatch=hatchs[label], edgecolor=edgecolors[label]) for label in labels]\n",
    "plt.legend(handles, labels)\n",
    "\n",
    "plt.xticks(rotation=\"vertical\")\n",
    "plt.ylabel(\"USD ($)\")\n",
    "plt.xlabel(\"Hour\")\n",
    "plt.show()"
   ]
  },
  {
   "cell_type": "markdown",
   "id": "d5383130",
   "metadata": {
    "papermill": {
     "duration": 0.012527,
     "end_time": "2023-03-31T06:12:13.699749",
     "exception": false,
     "start_time": "2023-03-31T06:12:13.687222",
     "status": "completed"
    },
    "tags": []
   },
   "source": [
    "# **Question 4. What products are most often sold together?**"
   ]
  },
  {
   "cell_type": "code",
   "execution_count": 19,
   "id": "6989d82f",
   "metadata": {
    "execution": {
     "iopub.execute_input": "2023-03-31T06:12:13.728336Z",
     "iopub.status.busy": "2023-03-31T06:12:13.727894Z",
     "iopub.status.idle": "2023-03-31T06:12:14.782061Z",
     "shell.execute_reply": "2023-03-31T06:12:14.779795Z"
    },
    "papermill": {
     "duration": 1.072426,
     "end_time": "2023-03-31T06:12:14.785499",
     "exception": false,
     "start_time": "2023-03-31T06:12:13.713073",
     "status": "completed"
    },
    "tags": []
   },
   "outputs": [
    {
     "name": "stderr",
     "output_type": "stream",
     "text": [
      "/opt/conda/lib/python3.7/site-packages/ipykernel_launcher.py:4: SettingWithCopyWarning: \n",
      "A value is trying to be set on a copy of a slice from a DataFrame.\n",
      "Try using .loc[row_indexer,col_indexer] = value instead\n",
      "\n",
      "See the caveats in the documentation: https://pandas.pydata.org/pandas-docs/stable/user_guide/indexing.html#returning-a-view-versus-a-copy\n",
      "  after removing the cwd from sys.path.\n"
     ]
    },
    {
     "data": {
      "text/html": [
       "<div>\n",
       "<style scoped>\n",
       "    .dataframe tbody tr th:only-of-type {\n",
       "        vertical-align: middle;\n",
       "    }\n",
       "\n",
       "    .dataframe tbody tr th {\n",
       "        vertical-align: top;\n",
       "    }\n",
       "\n",
       "    .dataframe thead th {\n",
       "        text-align: right;\n",
       "    }\n",
       "</style>\n",
       "<table border=\"1\" class=\"dataframe\">\n",
       "  <thead>\n",
       "    <tr style=\"text-align: right;\">\n",
       "      <th></th>\n",
       "      <th>Order ID</th>\n",
       "      <th>Grouped</th>\n",
       "    </tr>\n",
       "  </thead>\n",
       "  <tbody>\n",
       "    <tr>\n",
       "      <th>46</th>\n",
       "      <td>236716</td>\n",
       "      <td>AA Batteries (4-pack),USB-C Charging Cable</td>\n",
       "    </tr>\n",
       "    <tr>\n",
       "      <th>60</th>\n",
       "      <td>236729</td>\n",
       "      <td>Apple Airpods Headphones,iPhone</td>\n",
       "    </tr>\n",
       "    <tr>\n",
       "      <th>62</th>\n",
       "      <td>236730</td>\n",
       "      <td>Google Phone,Wired Headphones</td>\n",
       "    </tr>\n",
       "    <tr>\n",
       "      <th>132</th>\n",
       "      <td>236799</td>\n",
       "      <td>Google Phone,Wired Headphones</td>\n",
       "    </tr>\n",
       "    <tr>\n",
       "      <th>163</th>\n",
       "      <td>236829</td>\n",
       "      <td>USB-C Charging Cable,Vareebadd Phone</td>\n",
       "    </tr>\n",
       "  </tbody>\n",
       "</table>\n",
       "</div>"
      ],
      "text/plain": [
       "    Order ID                                     Grouped\n",
       "46    236716  AA Batteries (4-pack),USB-C Charging Cable\n",
       "60    236729             Apple Airpods Headphones,iPhone\n",
       "62    236730               Google Phone,Wired Headphones\n",
       "132   236799               Google Phone,Wired Headphones\n",
       "163   236829        USB-C Charging Cable,Vareebadd Phone"
      ]
     },
     "execution_count": 19,
     "metadata": {},
     "output_type": "execute_result"
    }
   ],
   "source": [
    "# Get rows of Order ID with more than one purchase\n",
    "aux_df = sales_dataframe[sales_dataframe[\"Order ID\"].duplicated(keep=False)]\n",
    "\n",
    "aux_df[\"Grouped\"] = aux_df.groupby(\"Order ID\")[\"Product\"].transform(lambda x: \",\".join(x))\n",
    "\n",
    "aux_df = aux_df[[\"Order ID\", \"Grouped\"]].drop_duplicates()\n",
    "\n",
    "# Sort the data\n",
    "aux_df['Grouped'] = aux_df['Grouped'].apply(lambda x: ','.join(sorted(x.split(','))))\n",
    "\n",
    "aux_df.head()"
   ]
  },
  {
   "cell_type": "code",
   "execution_count": 20,
   "id": "e964f0ab",
   "metadata": {
    "execution": {
     "iopub.execute_input": "2023-03-31T06:12:14.813048Z",
     "iopub.status.busy": "2023-03-31T06:12:14.812551Z",
     "iopub.status.idle": "2023-03-31T06:12:14.870773Z",
     "shell.execute_reply": "2023-03-31T06:12:14.867861Z"
    },
    "papermill": {
     "duration": 0.076754,
     "end_time": "2023-03-31T06:12:14.875074",
     "exception": false,
     "start_time": "2023-03-31T06:12:14.798320",
     "status": "completed"
    },
    "tags": []
   },
   "outputs": [
    {
     "name": "stdout",
     "output_type": "stream",
     "text": [
      "('Lightning Charging Cable', 'iPhone') 1011\n",
      "('Google Phone', 'USB-C Charging Cable') 997\n",
      "('Wired Headphones', 'iPhone') 462\n",
      "('Google Phone', 'Wired Headphones') 422\n",
      "('Apple Airpods Headphones', 'iPhone') 373\n",
      "('USB-C Charging Cable', 'Vareebadd Phone') 368\n",
      "('Bose SoundSport Headphones', 'Google Phone') 228\n",
      "('USB-C Charging Cable', 'Wired Headphones') 203\n",
      "('Vareebadd Phone', 'Wired Headphones') 149\n",
      "('Lightning Charging Cable', 'Wired Headphones') 129\n"
     ]
    }
   ],
   "source": [
    "from itertools import combinations\n",
    "from collections import Counter\n",
    "\n",
    "count=Counter()\n",
    "\n",
    "#Get a list of the two most common products sold together\n",
    "for row in aux_df[\"Grouped\"]:\n",
    "    row_list = row.split(\",\")\n",
    "    count.update(Counter(combinations(row_list,2)))\n",
    "    \n",
    "for key, value in count.most_common(10):\n",
    "    print(key, value)"
   ]
  },
  {
   "cell_type": "markdown",
   "id": "e9e22523",
   "metadata": {
    "papermill": {
     "duration": 0.011987,
     "end_time": "2023-03-31T06:12:14.901362",
     "exception": false,
     "start_time": "2023-03-31T06:12:14.889375",
     "status": "completed"
    },
    "tags": []
   },
   "source": [
    "# **Question 5. What product sold the most? Why do you think it sold the most?**"
   ]
  },
  {
   "cell_type": "code",
   "execution_count": 21,
   "id": "407ff281",
   "metadata": {
    "execution": {
     "iopub.execute_input": "2023-03-31T06:12:14.928425Z",
     "iopub.status.busy": "2023-03-31T06:12:14.927972Z",
     "iopub.status.idle": "2023-03-31T06:12:15.012324Z",
     "shell.execute_reply": "2023-03-31T06:12:15.011026Z"
    },
    "papermill": {
     "duration": 0.101408,
     "end_time": "2023-03-31T06:12:15.015198",
     "exception": false,
     "start_time": "2023-03-31T06:12:14.913790",
     "status": "completed"
    },
    "tags": []
   },
   "outputs": [
    {
     "data": {
      "text/plain": [
       "Product\n",
       "20in Monitor                   4126\n",
       "27in 4K Gaming Monitor         6239\n",
       "27in FHD Monitor               7541\n",
       "34in Ultrawide Monitor         6192\n",
       "AA Batteries (4-pack)         27615\n",
       "AAA Batteries (4-pack)        30986\n",
       "Apple Airpods Headphones      15637\n",
       "Bose SoundSport Headphones    13430\n",
       "Flatscreen TV                  4813\n",
       "Google Phone                   5529\n",
       "LG Dryer                        646\n",
       "LG Washing Machine              666\n",
       "Lightning Charging Cable      23169\n",
       "Macbook Pro Laptop             4725\n",
       "ThinkPad Laptop                4128\n",
       "USB-C Charging Cable          23931\n",
       "Vareebadd Phone                2068\n",
       "Wired Headphones              20524\n",
       "iPhone                         6847\n",
       "Name: Quantity Ordered, dtype: int64"
      ]
     },
     "execution_count": 21,
     "metadata": {},
     "output_type": "execute_result"
    }
   ],
   "source": [
    "\n",
    "sales_dataframe[\"Quantity Ordered\"] = sales_dataframe[\"Quantity Ordered\"]\n",
    "product_group = sales_dataframe.groupby(\"Product\")\n",
    "quantity_ordered = product_group.sum()[\"Quantity Ordered\"]\n",
    "quantity_ordered.head(100)"
   ]
  },
  {
   "cell_type": "code",
   "execution_count": 22,
   "id": "ed140b50",
   "metadata": {
    "execution": {
     "iopub.execute_input": "2023-03-31T06:12:15.042508Z",
     "iopub.status.busy": "2023-03-31T06:12:15.042049Z",
     "iopub.status.idle": "2023-03-31T06:12:15.544332Z",
     "shell.execute_reply": "2023-03-31T06:12:15.543083Z"
    },
    "papermill": {
     "duration": 0.519404,
     "end_time": "2023-03-31T06:12:15.547150",
     "exception": false,
     "start_time": "2023-03-31T06:12:15.027746",
     "status": "completed"
    },
    "tags": []
   },
   "outputs": [
    {
     "data": {
      "image/png": "[encoded data removed]",
      "text/plain": [
       "<Figure size 640x480 with 1 Axes>"
      ]
     },
     "metadata": {},
     "output_type": "display_data"
    }
   ],
   "source": [
    "fig, ax = plt.subplots();\n",
    "bar_graph = ax.bar(quantity_ordered.index, quantity_ordered.values)\n",
    "\n",
    "# to get positional index\n",
    "indexes = np.arange(len(quantity_ordered.index))\n",
    "index_dict = {k:v for k, v in zip(quantity_ordered.index, indexes)}\n",
    "\n",
    "for x in quantity_ordered.nlargest(5).index:\n",
    "    bar_graph[index_dict[x]].set_facecolor('y')\n",
    "\n",
    "bar_graph[index_dict[quantity_ordered.nlargest(1).index[0]]].set_hatch(\"/\")\n",
    "bar_graph[index_dict[quantity_ordered.nlargest(1).index[0]]].set_edgecolor('r')\n",
    "    \n",
    "colors = {'most sold':'yellow', 'top five':'yellow'}\n",
    "hatchs = {'most sold':'/', 'top five':'/'}\n",
    "edgecolors = {'most sold':'red', 'top five':'yellow'}\n",
    "labels = list(colors.keys())\n",
    "handles = [plt.Rectangle((0,0),1,1, facecolor=colors[label], hatch=hatchs[label], edgecolor=edgecolors[label]) for label in labels]\n",
    "plt.legend(handles, labels)\n",
    "\n",
    "plt.xticks(rotation=\"vertical\")\n",
    "plt.ylabel(\"Quantity ordered\")\n",
    "plt.xlabel(\"Products\")\n",
    "plt.show()"
   ]
  },
  {
   "cell_type": "markdown",
   "id": "0c5a6494",
   "metadata": {
    "papermill": {
     "duration": 0.01325,
     "end_time": "2023-03-31T06:12:15.574224",
     "exception": false,
     "start_time": "2023-03-31T06:12:15.560974",
     "status": "completed"
    },
    "tags": []
   },
   "source": [
    "**These products may be sold the most due to their low cost. To validate this affirmation, we will analyze the actual price of the products seeking some correlation.**"
   ]
  },
  {
   "cell_type": "code",
   "execution_count": 23,
   "id": "bf5f3935",
   "metadata": {
    "execution": {
     "iopub.execute_input": "2023-03-31T06:12:15.606413Z",
     "iopub.status.busy": "2023-03-31T06:12:15.605152Z",
     "iopub.status.idle": "2023-03-31T06:12:15.713682Z",
     "shell.execute_reply": "2023-03-31T06:12:15.711607Z"
    },
    "papermill": {
     "duration": 0.127144,
     "end_time": "2023-03-31T06:12:15.716766",
     "exception": false,
     "start_time": "2023-03-31T06:12:15.589622",
     "status": "completed"
    },
    "tags": []
   },
   "outputs": [
    {
     "name": "stdout",
     "output_type": "stream",
     "text": [
      "Product\n",
      "20in Monitor                   109.989998\n",
      "27in 4K Gaming Monitor         389.989990\n",
      "27in FHD Monitor               149.990005\n",
      "34in Ultrawide Monitor         379.989990\n",
      "AA Batteries (4-pack)            3.840000\n",
      "AAA Batteries (4-pack)           2.990000\n",
      "Apple Airpods Headphones       150.000000\n",
      "Bose SoundSport Headphones      99.989998\n",
      "Flatscreen TV                  300.000000\n",
      "Google Phone                   600.000000\n",
      "LG Dryer                       600.000000\n",
      "LG Washing Machine             600.000000\n",
      "Lightning Charging Cable        14.950000\n",
      "Macbook Pro Laptop            1700.000000\n",
      "ThinkPad Laptop                999.989990\n",
      "USB-C Charging Cable            11.950000\n",
      "Vareebadd Phone                400.000000\n",
      "Wired Headphones                11.990000\n",
      "iPhone                         700.000000\n",
      "Name: Price Each, dtype: float32\n"
     ]
    }
   ],
   "source": [
    "sales_dataframe.head()\n",
    "sales_dataframe[\"Price Each\"] = sales_dataframe[\"Price Each\"].astype(\"float32\")\n",
    "prices = sales_dataframe.groupby(\"Product\").mean()[\"Price Each\"]\n",
    "\n",
    "print(prices)"
   ]
  },
  {
   "cell_type": "code",
   "execution_count": 24,
   "id": "7a43817d",
   "metadata": {
    "execution": {
     "iopub.execute_input": "2023-03-31T06:12:15.748140Z",
     "iopub.status.busy": "2023-03-31T06:12:15.747515Z",
     "iopub.status.idle": "2023-03-31T06:12:16.205265Z",
     "shell.execute_reply": "2023-03-31T06:12:16.203718Z"
    },
    "papermill": {
     "duration": 0.477657,
     "end_time": "2023-03-31T06:12:16.208379",
     "exception": false,
     "start_time": "2023-03-31T06:12:15.730722",
     "status": "completed"
    },
    "tags": []
   },
   "outputs": [
    {
     "name": "stdout",
     "output_type": "stream",
     "text": [
      "[5, 4, 15, 17, 12]\n",
      "[2.99, 3.84, 11.95, 11.99, 14.95]\n"
     ]
    },
    {
     "name": "stderr",
     "output_type": "stream",
     "text": [
      "/opt/conda/lib/python3.7/site-packages/ipykernel_launcher.py:26: UserWarning: FixedFormatter should only be used together with FixedLocator\n"
     ]
    },
    {
     "data": {
      "image/png": "[encoded data removed]",
      "text/plain": [
       "<Figure size 640x480 with 2 Axes>"
      ]
     },
     "metadata": {},
     "output_type": "display_data"
    }
   ],
   "source": [
    "# plot two graph\n",
    "fig, ax1 = plt.subplots()\n",
    "\n",
    "ax2 = ax1.twinx()\n",
    "#ax1.bar(products, y1, 'g-')\n",
    "bar_graph = ax1.bar(quantity_ordered.index, quantity_ordered.values)\n",
    "plot_graph = ax2.plot(quantity_ordered.index, prices.values,color=\"red\")\n",
    "\n",
    "for x in quantity_ordered.nlargest(5).index:\n",
    "    bar_graph[index_dict[x]].set_facecolor('y')\n",
    "    \n",
    "smallest_prices = []\n",
    "smallest_prices_idx = []\n",
    "for x in prices.nsmallest(5).index:\n",
    "    smallest_prices_idx.append(index_dict[x])\n",
    "for x in prices.nsmallest(5).values:\n",
    "    smallest_prices.append(x)\n",
    "print(smallest_prices_idx)\n",
    "print(smallest_prices)\n",
    "ax2.scatter(smallest_prices_idx, smallest_prices,color=\"black\")\n",
    "\n",
    "    \n",
    "ax1.set_xlabel('Product Name')\n",
    "ax1.set_ylabel('Quantity Ordered', color='y')\n",
    "ax2.set_ylabel('Price ($)', color='r')\n",
    "ax1.set_xticklabels(quantity_ordered.index, rotation = \"vertical\", size=8)\n",
    "\n",
    "plt.show()"
   ]
  },
  {
   "cell_type": "code",
   "execution_count": null,
   "id": "d4f250eb",
   "metadata": {
    "papermill": {
     "duration": 0.014639,
     "end_time": "2023-03-31T06:12:16.239508",
     "exception": false,
     "start_time": "2023-03-31T06:12:16.224869",
     "status": "completed"
    },
    "tags": []
   },
   "outputs": [],
   "source": []
  },
  {
   "cell_type": "code",
   "execution_count": null,
   "id": "3c431347",
   "metadata": {
    "papermill": {
     "duration": 0.014491,
     "end_time": "2023-03-31T06:12:16.270175",
     "exception": false,
     "start_time": "2023-03-31T06:12:16.255684",
     "status": "completed"
    },
    "tags": []
   },
   "outputs": [],
   "source": []
  }
 ],
 "metadata": {
  "kernelspec": {
   "display_name": "Python 3",
   "language": "python",
   "name": "python3"
  },
  "language_info": {
   "codemirror_mode": {
    "name": "ipython",
    "version": 3
   },
   "file_extension": ".py",
   "mimetype": "text/x-python",
   "name": "python",
   "nbconvert_exporter": "python",
   "pygments_lexer": "ipython3",
   "version": "3.7.12"
  },
  "papermill": {
   "default_parameters": {},
   "duration": 20.373179,
   "end_time": "2023-03-31T06:12:17.210183",
   "environment_variables": {},
   "exception": null,
   "input_path": "__notebook__.ipynb",
   "output_path": "__notebook__.ipynb",
   "parameters": {},
   "start_time": "2023-03-31T06:11:56.837004",
   "version": "2.4.0"
  }
 },
 "nbformat": 4,
 "nbformat_minor": 5
}
